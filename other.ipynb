{
 "cells": [
  {
   "cell_type": "code",
   "execution_count": 1,
   "metadata": {},
   "outputs": [],
   "source": [
    "import pandas as pd"
   ]
  },
  {
   "cell_type": "code",
   "execution_count": 2,
   "metadata": {},
   "outputs": [],
   "source": [
    "def load_data():\n",
    "   cols_91 = ['Year','Month','DayofMonth','DayOfWeek','DepTime','CRSDepTime','ArrTime','CRSArrTime','UniqueCarrier','FlightNum','ActualElapsedTime','CRSElapsedTime','ArrDelay','DepDelay','Origin','Dest','Distance','Cancelled','Diverted']\n",
    "   cols_01 = ['Year','Month','DayofMonth','DayOfWeek','DepTime','CRSDepTime','ArrTime','CRSArrTime','UniqueCarrier','FlightNum','TailNum','ActualElapsedTime','CRSElapsedTime','ArrDelay','DepDelay','Origin','Dest','Distance','TaxiIn','TaxiOut','Cancelled','Diverted']\n",
    "   return  pd.read_csv(\"Data/1991.csv.gz\", encoding='cp1252', compression=\"gzip\", usecols=cols_91), pd.read_csv(\"Data/2001.csv.gz\", encoding='cp1252', compression=\"gzip\", usecols=cols_01)\n",
    "   \n",
    "\n",
    "df91, df01 = load_data()"
   ]
  },
  {
   "cell_type": "code",
   "execution_count": 3,
   "metadata": {},
   "outputs": [],
   "source": [
    "avg_delay_by_airline_91 = df91.groupby('UniqueCarrier')['DepDelay'].mean().reset_index()\n",
    "top_10_airline_delays_91 = avg_delay_by_airline_91.nlargest(12, 'DepDelay')\n",
    "top_10_airline_delays_91.to_csv('Data/top_carrier_91.csv', index=False)\n",
    "\n",
    "avg_delay_by_airline_01 = df01.groupby('UniqueCarrier')['DepDelay'].mean().reset_index()\n",
    "top_10_airline_delays_01 = avg_delay_by_airline_01.nlargest(12, 'DepDelay')\n",
    "top_10_airline_delays_01.to_csv('Data/top_carrier_01.csv', index=False)\n",
    "\n",
    "avg_delay_by_origin = df91.groupby('Origin')['DepDelay'].mean().reset_index()\n",
    "top_10_origin_delays_91 = avg_delay_by_origin.nlargest(12, 'DepDelay')\n",
    "top_10_origin_delays_91.to_csv('Data/top_origin_91.csv', index=False)\n",
    "\n",
    "\n",
    "avg_delay_by_origin = df01.groupby('Origin')['DepDelay'].mean().reset_index()\n",
    "top_10_origin_delays_01 = avg_delay_by_origin.nlargest(12, 'DepDelay')\n",
    "top_10_origin_delays_01.to_csv('Data/top_origin_01.csv', index=False)\n",
    "\n",
    "# Calculate average delays by Destination\n",
    "avg_delay_by_dest = df91.groupby('Dest')['DepDelay'].mean().reset_index()\n",
    "top_10_dest_delays_91 = avg_delay_by_dest.nlargest(12, 'DepDelay')\n",
    "top_10_dest_delays_91.to_csv('Data/top_dest_91.csv', index=False)\n",
    "\n",
    "avg_delay_by_dest = df01.groupby('Dest')['DepDelay'].mean().reset_index()\n",
    "top_10_dest_delays_01 = avg_delay_by_dest.nlargest(12, 'DepDelay')\n",
    "top_10_dest_delays_01.to_csv('Data/top_dest_01.csv', index=False)"
   ]
  },
  {
   "cell_type": "code",
   "execution_count": null,
   "metadata": {},
   "outputs": [],
   "source": []
  }
 ],
 "metadata": {
  "kernelspec": {
   "display_name": ".venv",
   "language": "python",
   "name": "python3"
  },
  "language_info": {
   "codemirror_mode": {
    "name": "ipython",
    "version": 3
   },
   "file_extension": ".py",
   "mimetype": "text/x-python",
   "name": "python",
   "nbconvert_exporter": "python",
   "pygments_lexer": "ipython3",
   "version": "3.11.0"
  }
 },
 "nbformat": 4,
 "nbformat_minor": 2
}
