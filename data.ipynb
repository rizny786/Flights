{
 "cells": [
  {
   "cell_type": "code",
   "execution_count": 1,
   "metadata": {},
   "outputs": [],
   "source": [
    "from pyspark.sql import SparkSession\n",
    "from pyspark.sql.types import StructType, StructField, IntegerType, StringType, DoubleType\n",
    "from pyspark.sql.functions import when"
   ]
  },
  {
   "cell_type": "code",
   "execution_count": 10,
   "metadata": {},
   "outputs": [],
   "source": [
    "schema = StructType([\n",
    "    StructField(\"Year\", IntegerType(), True),\n",
    "    StructField(\"Month\", IntegerType(), True),\n",
    "    StructField(\"DayofMonth\", IntegerType(), True),\n",
    "    StructField(\"DayOfWeek\", IntegerType(), True),\n",
    "    StructField(\"DepTime\", DoubleType(), True),\n",
    "    StructField(\"CRSDepTime\", IntegerType(), True),\n",
    "    StructField(\"ArrTime\", DoubleType(), True),\n",
    "    StructField(\"CRSArrTime\", IntegerType(), True),\n",
    "    StructField(\"UniqueCarrier\", StringType(), True),\n",
    "    StructField(\"FlightNum\", IntegerType(), True),\n",
    "    StructField(\"ActualElapsedTime\", DoubleType(), True),\n",
    "    StructField(\"CRSElapsedTime\", IntegerType(), True),\n",
    "    StructField(\"ArrDelay\", DoubleType(), True),\n",
    "    StructField(\"DepDelay\", DoubleType(), True),\n",
    "    StructField(\"Origin\", StringType(), True),\n",
    "    StructField(\"Dest\", StringType(), True),\n",
    "    StructField(\"Distance\", DoubleType(), True),\n",
    "    StructField(\"Cancelled\", IntegerType(), True),\n",
    "    StructField(\"Diverted\", IntegerType(), True)\n",
    "])"
   ]
  },
  {
   "cell_type": "code",
   "execution_count": 11,
   "metadata": {},
   "outputs": [],
   "source": [
    "# Creating a SparkSession\n",
    "spark = SparkSession.builder \\\n",
    "    .appName('my_app') \\\n",
    "    .config('spark.master', 'local[*]') \\\n",
    "    .getOrCreate()\n",
    "\n",
    "# # Setting the log level to ERROR\n",
    "spark.sparkContext.setLogLevel(\"ERROR\")\n",
    "\n",
    "# Setting the timeParserPolicy to LEGACY for backward compatibility\n",
    "spark.conf.set(\"spark.sql.legacy.timeParserPolicy\", \"LEGACY\")\n",
    "\n",
    "\n",
    "def load_data():\n",
    "    col = ['TailNum', 'AirTime', 'TaxiIn', 'TaxiOut', 'CancellationCode',\n",
    "                    'CarrierDelay', 'WeatherDelay', 'NASDelay', 'SecurityDelay', 'LateAircraftDelay']\n",
    "    return spark.read.option(\"header\", True).schema(schema).csv(\"df_91.csv.gz\").drop(*col).dropna(how='any'), spark.read.option(\"header\", True).schema(schema).csv(\"df_01.csv.gz\").drop(*col).dropna(how='any')"
   ]
  },
  {
   "cell_type": "code",
   "execution_count": 12,
   "metadata": {},
   "outputs": [],
   "source": [
    "df_91, df_01 = load_data()\n"
   ]
  },
  {
   "cell_type": "code",
   "execution_count": 35,
   "metadata": {},
   "outputs": [],
   "source": [
    "def remove_all_null_columns(df_91,df_01):\n",
    "    return df_91.drop(*['_c0','TailNum', 'AirTime', 'TaxiIn', 'TaxiOut', 'CancellationCode',\n",
    "                    'CarrierDelay', 'WeatherDelay', 'NASDelay', 'SecurityDelay', 'LateAircraftDelay']).dropna(how='any'),df_01.drop(*['CancellationCode', 'CarrierDelay', 'WeatherDelay', 'NASDelay',\n",
    "                    'SecurityDelay', 'LateAircraftDelay']).dropna(how='any')"
   ]
  },
  {
   "cell_type": "code",
   "execution_count": 4,
   "metadata": {},
   "outputs": [
    {
     "ename": "NameError",
     "evalue": "name 'remove_all_null_columns' is not defined",
     "output_type": "error",
     "traceback": [
      "\u001b[1;31m---------------------------------------------------------------------------\u001b[0m",
      "\u001b[1;31mNameError\u001b[0m                                 Traceback (most recent call last)",
      "\u001b[1;32md:\\Git\\Business Intelligence\\Flights\\data.ipynb Cell 6\u001b[0m line \u001b[0;36m1\n\u001b[1;32m----> <a href='vscode-notebook-cell:/d%3A/Git/Business%20Intelligence/Flights/data.ipynb#W5sZmlsZQ%3D%3D?line=0'>1</a>\u001b[0m df_91, df_01 \u001b[39m=\u001b[39m remove_all_null_columns(df_91,df_01)\n",
      "\u001b[1;31mNameError\u001b[0m: name 'remove_all_null_columns' is not defined"
     ]
    }
   ],
   "source": [
    "df_91, df_01 = remove_all_null_columns(df_91,df_01)"
   ]
  },
  {
   "cell_type": "code",
   "execution_count": 13,
   "metadata": {},
   "outputs": [
    {
     "name": "stdout",
     "output_type": "stream",
     "text": [
      "root\n",
      " |-- Year: integer (nullable = true)\n",
      " |-- Month: integer (nullable = true)\n",
      " |-- DayofMonth: integer (nullable = true)\n",
      " |-- DayOfWeek: integer (nullable = true)\n",
      " |-- DepTime: double (nullable = true)\n",
      " |-- CRSDepTime: integer (nullable = true)\n",
      " |-- ArrTime: double (nullable = true)\n",
      " |-- CRSArrTime: integer (nullable = true)\n",
      " |-- UniqueCarrier: string (nullable = true)\n",
      " |-- FlightNum: integer (nullable = true)\n",
      " |-- ActualElapsedTime: double (nullable = true)\n",
      " |-- CRSElapsedTime: integer (nullable = true)\n",
      " |-- ArrDelay: double (nullable = true)\n",
      " |-- DepDelay: double (nullable = true)\n",
      " |-- Origin: string (nullable = true)\n",
      " |-- Dest: string (nullable = true)\n",
      " |-- Distance: double (nullable = true)\n",
      " |-- Cancelled: integer (nullable = true)\n",
      " |-- Diverted: integer (nullable = true)\n",
      "\n"
     ]
    }
   ],
   "source": [
    "df_01.printSchema()"
   ]
  },
  {
   "cell_type": "code",
   "execution_count": 41,
   "metadata": {},
   "outputs": [],
   "source": [
    "df_91 =  df_91.withColumn(\"status\", when(df_91[\"ArrDelay\"] > 1, \"1\").otherwise(\"0\"))"
   ]
  },
  {
   "cell_type": "code",
   "execution_count": 43,
   "metadata": {},
   "outputs": [
    {
     "name": "stdout",
     "output_type": "stream",
     "text": [
      "+----+-----+----------+---------+-------+----------+-------+----------+-------------+---------+-----------------+--------------+--------+--------+------+----+--------+---------+--------+------+\n",
      "|Year|Month|DayofMonth|DayOfWeek|DepTime|CRSDepTime|ArrTime|CRSArrTime|UniqueCarrier|FlightNum|ActualElapsedTime|CRSElapsedTime|ArrDelay|DepDelay|Origin|Dest|Distance|Cancelled|Diverted|status|\n",
      "+----+-----+----------+---------+-------+----------+-------+----------+-------------+---------+-----------------+--------------+--------+--------+------+----+--------+---------+--------+------+\n",
      "|1991|    1|         1|        2| 1709.0|      1705| 1944.0|      1944|           US|      112|            155.0|           159|     0.0|     4.0|   TPA| SYR|  1104.0|        0|       0|     0|\n",
      "|1991|    1|         2|        3| 1704.0|      1705| 1946.0|      1944|           US|      112|            162.0|           159|     2.0|    -1.0|   TPA| SYR|  1104.0|        0|       0|     1|\n",
      "|1991|    1|         3|        4| 1705.0|      1705| 1934.0|      1944|           US|      112|            149.0|           159|   -10.0|     0.0|   TPA| SYR|  1104.0|        0|       0|     0|\n",
      "|1991|    1|         4|        5| 1709.0|      1705| 1951.0|      1944|           US|      112|            162.0|           159|     7.0|     4.0|   TPA| SYR|  1104.0|        0|       0|     1|\n",
      "|1991|    1|         5|        6| 1703.0|      1705| 1936.0|      1944|           US|      112|            153.0|           159|    -8.0|    -2.0|   TPA| SYR|  1104.0|        0|       0|     0|\n",
      "|1991|    1|         6|        7| 1711.0|      1705| 1949.0|      1944|           US|      112|            158.0|           159|     5.0|     6.0|   TPA| SYR|  1104.0|        0|       0|     1|\n",
      "|1991|    1|         7|        1| 1711.0|      1705| 1946.0|      1944|           US|      112|            155.0|           159|     2.0|     6.0|   TPA| SYR|  1104.0|        0|       0|     1|\n",
      "|1991|    1|         8|        2| 1704.0|      1705| 1934.0|      1944|           US|      112|            150.0|           159|   -10.0|    -1.0|   TPA| SYR|  1104.0|        0|       0|     0|\n",
      "|1991|    1|         9|        3| 1805.0|      1705| 2042.0|      1944|           US|      112|            157.0|           159|    58.0|    60.0|   TPA| SYR|  1104.0|        0|       0|     1|\n",
      "|1991|    1|        10|        4| 1703.0|      1705| 1946.0|      1944|           US|      112|            163.0|           159|     2.0|    -2.0|   TPA| SYR|  1104.0|        0|       0|     1|\n",
      "|1991|    1|        11|        5| 1706.0|      1705| 2014.0|      1944|           US|      112|            188.0|           159|    30.0|     1.0|   TPA| SYR|  1104.0|        0|       0|     1|\n",
      "|1991|    1|        12|        6| 1702.0|      1705| 1926.0|      1944|           US|      112|            144.0|           159|   -18.0|    -3.0|   TPA| SYR|  1104.0|        0|       0|     0|\n",
      "|1991|    1|        13|        7| 1705.0|      1705| 1941.0|      1944|           US|      112|            156.0|           159|    -3.0|     0.0|   TPA| SYR|  1104.0|        0|       0|     0|\n",
      "|1991|    1|        14|        1| 1703.0|      1705| 1942.0|      1944|           US|      112|            159.0|           159|    -2.0|    -2.0|   TPA| SYR|  1104.0|        0|       0|     0|\n",
      "|1991|    1|        15|        2| 1701.0|      1705| 1932.0|      1944|           US|      112|            151.0|           159|   -12.0|    -4.0|   TPA| SYR|  1104.0|        0|       0|     0|\n",
      "|1991|    1|        16|        3| 1723.0|      1705| 1945.0|      1944|           US|      112|            142.0|           159|     1.0|    18.0|   TPA| SYR|  1104.0|        0|       0|     0|\n",
      "|1991|    1|        17|        4| 1706.0|      1705| 1943.0|      1944|           US|      112|            157.0|           159|    -1.0|     1.0|   TPA| SYR|  1104.0|        0|       0|     0|\n",
      "|1991|    1|        18|        5| 1704.0|      1705| 2000.0|      1944|           US|      112|            176.0|           159|    16.0|    -1.0|   TPA| SYR|  1104.0|        0|       0|     1|\n",
      "|1991|    1|        19|        6| 1701.0|      1705| 1927.0|      1944|           US|      112|            146.0|           159|   -17.0|    -4.0|   TPA| SYR|  1104.0|        0|       0|     0|\n",
      "|1991|    1|        20|        7| 1702.0|      1705| 1939.0|      1944|           US|      112|            157.0|           159|    -5.0|    -3.0|   TPA| SYR|  1104.0|        0|       0|     0|\n",
      "+----+-----+----------+---------+-------+----------+-------+----------+-------------+---------+-----------------+--------------+--------+--------+------+----+--------+---------+--------+------+\n",
      "only showing top 20 rows\n",
      "\n"
     ]
    }
   ],
   "source": [
    "df_91.show()"
   ]
  }
 ],
 "metadata": {
  "kernelspec": {
   "display_name": ".venv",
   "language": "python",
   "name": "python3"
  },
  "language_info": {
   "codemirror_mode": {
    "name": "ipython",
    "version": 3
   },
   "file_extension": ".py",
   "mimetype": "text/x-python",
   "name": "python",
   "nbconvert_exporter": "python",
   "pygments_lexer": "ipython3",
   "version": "3.10.10"
  }
 },
 "nbformat": 4,
 "nbformat_minor": 2
}
