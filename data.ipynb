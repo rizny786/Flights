{
 "cells": [
  {
   "cell_type": "code",
   "execution_count": 1,
   "metadata": {},
   "outputs": [],
   "source": [
    "import f_processing as dp\n",
    "# from pyspark.ml.regression import RandomForestRegressor\n",
    "\n"
   ]
  },
  {
   "cell_type": "code",
   "execution_count": 2,
   "metadata": {},
   "outputs": [],
   "source": [
    "df1991, df2001 = dp.load_data()"
   ]
  },
  {
   "cell_type": "code",
   "execution_count": 3,
   "metadata": {},
   "outputs": [],
   "source": [
    "df1991, df2001 = dp.preprocessing(df1991,df2001)"
   ]
  },
  {
   "cell_type": "code",
   "execution_count": 4,
   "metadata": {},
   "outputs": [],
   "source": [
    "pdf_91 = dp.preprocess_data(df1991,['UniqueCarrier','Origin','Dest'],['Month','DayofMonth','DayOfWeek','DepTime','CRSDepTime','ArrTime','CRSArrTime','FlightNum','ActualElapsedTime','CRSElapsedTime','DepDelay','Distance','Cancelled','Diverted'])"
   ]
  },
  {
   "cell_type": "code",
   "execution_count": 5,
   "metadata": {},
   "outputs": [
    {
     "name": "stdout",
     "output_type": "stream",
     "text": [
      "+-------------+------+----+-----+----------+---------+-------+----------+-------+----------+---------+-----------------+--------------+--------+--------+---------+--------+--------------------+------+\n",
      "|UniqueCarrier|Origin|Dest|Month|DayofMonth|DayOfWeek|DepTime|CRSDepTime|ArrTime|CRSArrTime|FlightNum|ActualElapsedTime|CRSElapsedTime|DepDelay|Distance|Cancelled|Diverted|            features|target|\n",
      "+-------------+------+----+-----+----------+---------+-------+----------+-------+----------+---------+-----------------+--------------+--------+--------+---------+--------+--------------------+------+\n",
      "|           US|   TPA| SYR|    1|         1|        2| 1709.0|      1705| 1944.0|      1944|      112|            155.0|           159|     4.0|  1104.0|        0|       0|(490,[0,42,302,47...|     0|\n",
      "|           US|   TPA| SYR|    1|         2|        3| 1704.0|      1705| 1946.0|      1944|      112|            162.0|           159|    -1.0|  1104.0|        0|       0|(490,[0,42,302,47...|     1|\n",
      "|           US|   TPA| SYR|    1|         3|        4| 1705.0|      1705| 1934.0|      1944|      112|            149.0|           159|     0.0|  1104.0|        0|       0|(490,[0,42,302,47...|     0|\n",
      "|           US|   TPA| SYR|    1|         4|        5| 1709.0|      1705| 1951.0|      1944|      112|            162.0|           159|     4.0|  1104.0|        0|       0|(490,[0,42,302,47...|     1|\n",
      "|           US|   TPA| SYR|    1|         5|        6| 1703.0|      1705| 1936.0|      1944|      112|            153.0|           159|    -2.0|  1104.0|        0|       0|(490,[0,42,302,47...|     0|\n",
      "|           US|   TPA| SYR|    1|         6|        7| 1711.0|      1705| 1949.0|      1944|      112|            158.0|           159|     6.0|  1104.0|        0|       0|(490,[0,42,302,47...|     1|\n",
      "|           US|   TPA| SYR|    1|         7|        1| 1711.0|      1705| 1946.0|      1944|      112|            155.0|           159|     6.0|  1104.0|        0|       0|(490,[0,42,302,47...|     1|\n",
      "|           US|   TPA| SYR|    1|         8|        2| 1704.0|      1705| 1934.0|      1944|      112|            150.0|           159|    -1.0|  1104.0|        0|       0|(490,[0,42,302,47...|     0|\n",
      "|           US|   TPA| SYR|    1|         9|        3| 1805.0|      1705| 2042.0|      1944|      112|            157.0|           159|    60.0|  1104.0|        0|       0|(490,[0,42,302,47...|     1|\n",
      "|           US|   TPA| SYR|    1|        10|        4| 1703.0|      1705| 1946.0|      1944|      112|            163.0|           159|    -2.0|  1104.0|        0|       0|(490,[0,42,302,47...|     1|\n",
      "+-------------+------+----+-----+----------+---------+-------+----------+-------+----------+---------+-----------------+--------------+--------+--------+---------+--------+--------------------+------+\n",
      "\n"
     ]
    }
   ],
   "source": [
    "pdf_91.limit(10).show()"
   ]
  },
  {
   "cell_type": "code",
   "execution_count": 6,
   "metadata": {},
   "outputs": [],
   "source": [
    "pdf_01 = dp.preprocess_data(df2001,['UniqueCarrier','TailNum','Origin','Dest'],['Month','DayofMonth','DayOfWeek','DepTime','CRSDepTime','ArrTime','CRSArrTime','FlightNum','ActualElapsedTime','CRSElapsedTime','DepDelay','Distance','TaxiIn','TaxiOut','Cancelled','Diverted'])"
   ]
  },
  {
   "cell_type": "code",
   "execution_count": 7,
   "metadata": {},
   "outputs": [
    {
     "name": "stdout",
     "output_type": "stream",
     "text": [
      "+-------------+-------+------+----+-----+----------+---------+-------+----------+-------+----------+---------+-----------------+--------------+--------+--------+------+-------+---------+--------+--------------------+------+\n",
      "|UniqueCarrier|TailNum|Origin|Dest|Month|DayofMonth|DayOfWeek|DepTime|CRSDepTime|ArrTime|CRSArrTime|FlightNum|ActualElapsedTime|CRSElapsedTime|DepDelay|Distance|TaxiIn|TaxiOut|Cancelled|Diverted|            features|target|\n",
      "+-------------+-------+------+----+-----+----------+---------+-------+----------+-------+----------+---------+-----------------+--------------+--------+--------+------+-------+---------+--------+--------------------+------+\n",
      "|           US| N700äæ|   BWI| CLT|    1|        17|        3| 1806.0|      1810| 1931.0|      1934|      375|             85.0|          84.0|    -4.0|     361|     5|     20|      0.0|     0.0|(5048,[4,1374,459...|     0|\n",
      "|           US| N713äæ|   BWI| CLT|    1|        18|        4| 1805.0|      1810| 1938.0|      1934|      375|             93.0|          84.0|    -5.0|     361|     9|     20|      0.0|     0.0|(5048,[4,978,4590...|     1|\n",
      "|           US| N702äæ|   BWI| CLT|    1|        19|        5| 1821.0|      1810| 1957.0|      1934|      375|             96.0|          84.0|    11.0|     361|     6|     10|      0.0|     0.0|(5048,[4,1126,459...|     1|\n",
      "|           US| N701äæ|   BWI| CLT|    1|        20|        6| 1807.0|      1810| 1944.0|      1934|      375|             97.0|          84.0|    -3.0|     361|     4|     27|      0.0|     0.0|(5048,[4,1370,459...|     1|\n",
      "|           US| N768äæ|   BWI| CLT|    1|        21|        7| 1810.0|      1810| 1954.0|      1934|      375|            104.0|          84.0|     0.0|     361|     4|     38|      0.0|     0.0|(5048,[4,948,4590...|     1|\n",
      "+-------------+-------+------+----+-----+----------+---------+-------+----------+-------+----------+---------+-----------------+--------------+--------+--------+------+-------+---------+--------+--------------------+------+\n",
      "only showing top 5 rows\n",
      "\n"
     ]
    }
   ],
   "source": [
    "pdf_01.show(5)"
   ]
  },
  {
   "cell_type": "code",
   "execution_count": 8,
   "metadata": {},
   "outputs": [],
   "source": [
    "train_91, test_91 = pdf_91.randomSplit([0.8, 0.2], seed=42)"
   ]
  },
  {
   "cell_type": "code",
   "execution_count": 9,
   "metadata": {},
   "outputs": [
    {
     "ename": "ValueError",
     "evalue": "too many values to unpack (expected 2)",
     "output_type": "error",
     "traceback": [
      "\u001b[1;31m---------------------------------------------------------------------------\u001b[0m",
      "\u001b[1;31mValueError\u001b[0m                                Traceback (most recent call last)",
      "Cell \u001b[1;32mIn[9], line 1\u001b[0m\n\u001b[1;32m----> 1\u001b[0m rf_91, xgb_91 \u001b[38;5;241m=\u001b[39m dp\u001b[38;5;241m.\u001b[39mtrain_and_evaluate(train_91,test_91)\n",
      "\u001b[1;31mValueError\u001b[0m: too many values to unpack (expected 2)"
     ]
    }
   ],
   "source": [
    "rf_91, xgb_91 = dp.train_and_evaluate(train_91,test_91)"
   ]
  },
  {
   "cell_type": "code",
   "execution_count": null,
   "metadata": {},
   "outputs": [],
   "source": [
    "xgb_91.get('accuracy')"
   ]
  },
  {
   "cell_type": "code",
   "execution_count": null,
   "metadata": {},
   "outputs": [],
   "source": [
    "# dp.plot_accuracy_bar_chart(rf_91.get('accuracy'), xgb_91.get('accuracy'))"
   ]
  },
  {
   "cell_type": "code",
   "execution_count": null,
   "metadata": {},
   "outputs": [],
   "source": [
    "train_01, test_01 = pdf_01.randomSplit([0.8, 0.2], seed=42)"
   ]
  },
  {
   "cell_type": "code",
   "execution_count": null,
   "metadata": {},
   "outputs": [],
   "source": [
    "rf_01 = dp.train_and_evaluate(train_01,test_01)"
   ]
  },
  {
   "cell_type": "code",
   "execution_count": null,
   "metadata": {},
   "outputs": [],
   "source": [
    "# dp.plot_accuracy_bar_chart(rf_01.get('accuracy'), rf_01.get('accuracy'))"
   ]
  }
 ],
 "metadata": {
  "kernelspec": {
   "display_name": ".venv",
   "language": "python",
   "name": "python3"
  },
  "language_info": {
   "codemirror_mode": {
    "name": "ipython",
    "version": 3
   },
   "file_extension": ".py",
   "mimetype": "text/x-python",
   "name": "python",
   "nbconvert_exporter": "python",
   "pygments_lexer": "ipython3",
   "version": "3.12.1"
  }
 },
 "nbformat": 4,
 "nbformat_minor": 2
}
