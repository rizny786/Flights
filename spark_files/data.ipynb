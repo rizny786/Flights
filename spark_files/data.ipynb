{
 "cells": [
  {
   "cell_type": "code",
   "execution_count": 1,
   "metadata": {},
   "outputs": [],
   "source": [
    "import f_processing as dp\n",
    "# from pyspark.ml.regression import RandomForestRegressor\n"
   ]
  },
  {
   "cell_type": "code",
   "execution_count": 2,
   "metadata": {},
   "outputs": [],
   "source": [
    "df1991, df2001 = dp.load_data()"
   ]
  },
  {
   "cell_type": "code",
   "execution_count": 3,
   "metadata": {},
   "outputs": [],
   "source": [
    "df1991, df2001 = dp.preprocessing(df1991,df2001)"
   ]
  },
  {
   "cell_type": "code",
   "execution_count": 4,
   "metadata": {},
   "outputs": [],
   "source": [
    "pdf_91 = dp.preprocess_data(df1991,['UniqueCarrier','Origin','Dest'],['Month','DayofMonth','DayOfWeek','DepTime','CRSDepTime','ArrTime','CRSArrTime','FlightNum','ActualElapsedTime','CRSElapsedTime','DepDelay','Distance','Cancelled','Diverted'])"
   ]
  },
  {
   "cell_type": "code",
   "execution_count": 5,
   "metadata": {},
   "outputs": [
    {
     "name": "stdout",
     "output_type": "stream",
     "text": [
      "+-------------+------+----+-----+----------+---------+-------+----------+-------+----------+---------+-----------------+--------------+--------+--------+---------+--------+--------------------+------+\n",
      "|UniqueCarrier|Origin|Dest|Month|DayofMonth|DayOfWeek|DepTime|CRSDepTime|ArrTime|CRSArrTime|FlightNum|ActualElapsedTime|CRSElapsedTime|DepDelay|Distance|Cancelled|Diverted|            features|target|\n",
      "+-------------+------+----+-----+----------+---------+-------+----------+-------+----------+---------+-----------------+--------------+--------+--------+---------+--------+--------------------+------+\n",
      "|           US|   TPA| SYR|    1|         1|        2| 1709.0|      1705| 1944.0|      1944|      112|            155.0|           159|     4.0|  1104.0|        0|       0|(490,[0,42,302,47...|     0|\n",
      "|           US|   TPA| SYR|    1|         2|        3| 1704.0|      1705| 1946.0|      1944|      112|            162.0|           159|    -1.0|  1104.0|        0|       0|(490,[0,42,302,47...|     1|\n",
      "|           US|   TPA| SYR|    1|         3|        4| 1705.0|      1705| 1934.0|      1944|      112|            149.0|           159|     0.0|  1104.0|        0|       0|(490,[0,42,302,47...|     0|\n",
      "|           US|   TPA| SYR|    1|         4|        5| 1709.0|      1705| 1951.0|      1944|      112|            162.0|           159|     4.0|  1104.0|        0|       0|(490,[0,42,302,47...|     1|\n",
      "|           US|   TPA| SYR|    1|         5|        6| 1703.0|      1705| 1936.0|      1944|      112|            153.0|           159|    -2.0|  1104.0|        0|       0|(490,[0,42,302,47...|     0|\n",
      "|           US|   TPA| SYR|    1|         6|        7| 1711.0|      1705| 1949.0|      1944|      112|            158.0|           159|     6.0|  1104.0|        0|       0|(490,[0,42,302,47...|     1|\n",
      "|           US|   TPA| SYR|    1|         7|        1| 1711.0|      1705| 1946.0|      1944|      112|            155.0|           159|     6.0|  1104.0|        0|       0|(490,[0,42,302,47...|     1|\n",
      "|           US|   TPA| SYR|    1|         8|        2| 1704.0|      1705| 1934.0|      1944|      112|            150.0|           159|    -1.0|  1104.0|        0|       0|(490,[0,42,302,47...|     0|\n",
      "|           US|   TPA| SYR|    1|         9|        3| 1805.0|      1705| 2042.0|      1944|      112|            157.0|           159|    60.0|  1104.0|        0|       0|(490,[0,42,302,47...|     1|\n",
      "|           US|   TPA| SYR|    1|        10|        4| 1703.0|      1705| 1946.0|      1944|      112|            163.0|           159|    -2.0|  1104.0|        0|       0|(490,[0,42,302,47...|     1|\n",
      "+-------------+------+----+-----+----------+---------+-------+----------+-------+----------+---------+-----------------+--------------+--------+--------+---------+--------+--------------------+------+\n",
      "\n"
     ]
    }
   ],
   "source": [
    "pdf_91.limit(10).show()"
   ]
  },
  {
   "cell_type": "code",
   "execution_count": 6,
   "metadata": {},
   "outputs": [],
   "source": [
    "pdf_01 = dp.preprocess_data(df2001,['UniqueCarrier','TailNum','Origin','Dest'],['Month','DayofMonth','DayOfWeek','DepTime','CRSDepTime','ArrTime','CRSArrTime','FlightNum','ActualElapsedTime','CRSElapsedTime','DepDelay','Distance','TaxiIn','TaxiOut','Cancelled','Diverted'])"
   ]
  },
  {
   "cell_type": "code",
   "execution_count": 7,
   "metadata": {},
   "outputs": [
    {
     "name": "stdout",
     "output_type": "stream",
     "text": [
      "+-------------+-------+------+----+-----+----------+---------+-------+----------+-------+----------+---------+-----------------+--------------+--------+--------+------+-------+---------+--------+--------------------+------+\n",
      "|UniqueCarrier|TailNum|Origin|Dest|Month|DayofMonth|DayOfWeek|DepTime|CRSDepTime|ArrTime|CRSArrTime|FlightNum|ActualElapsedTime|CRSElapsedTime|DepDelay|Distance|TaxiIn|TaxiOut|Cancelled|Diverted|            features|target|\n",
      "+-------------+-------+------+----+-----+----------+---------+-------+----------+-------+----------+---------+-----------------+--------------+--------+--------+------+-------+---------+--------+--------------------+------+\n",
      "|           US| N700äæ|   BWI| CLT|    1|        17|        3| 1806.0|      1810| 1931.0|      1934|      375|             85.0|          84.0|    -4.0|     361|     5|     20|      0.0|     0.0|(5048,[4,1374,459...|     0|\n",
      "|           US| N713äæ|   BWI| CLT|    1|        18|        4| 1805.0|      1810| 1938.0|      1934|      375|             93.0|          84.0|    -5.0|     361|     9|     20|      0.0|     0.0|(5048,[4,978,4590...|     1|\n",
      "|           US| N702äæ|   BWI| CLT|    1|        19|        5| 1821.0|      1810| 1957.0|      1934|      375|             96.0|          84.0|    11.0|     361|     6|     10|      0.0|     0.0|(5048,[4,1126,459...|     1|\n",
      "|           US| N701äæ|   BWI| CLT|    1|        20|        6| 1807.0|      1810| 1944.0|      1934|      375|             97.0|          84.0|    -3.0|     361|     4|     27|      0.0|     0.0|(5048,[4,1370,459...|     1|\n",
      "|           US| N768äæ|   BWI| CLT|    1|        21|        7| 1810.0|      1810| 1954.0|      1934|      375|            104.0|          84.0|     0.0|     361|     4|     38|      0.0|     0.0|(5048,[4,948,4590...|     1|\n",
      "+-------------+-------+------+----+-----+----------+---------+-------+----------+-------+----------+---------+-----------------+--------------+--------+--------+------+-------+---------+--------+--------------------+------+\n",
      "only showing top 5 rows\n",
      "\n"
     ]
    }
   ],
   "source": [
    "pdf_01.show(5)"
   ]
  },
  {
   "cell_type": "code",
   "execution_count": 8,
   "metadata": {},
   "outputs": [],
   "source": [
    "train_91, test_91 = pdf_91.randomSplit([0.8, 0.2], seed=42)"
   ]
  },
  {
   "cell_type": "code",
   "execution_count": 9,
   "metadata": {},
   "outputs": [],
   "source": [
    "rf_91 = dp.train_and_evaluate(train_91,test_91)"
   ]
  },
  {
   "cell_type": "code",
   "execution_count": 10,
   "metadata": {},
   "outputs": [
    {
     "data": {
      "text/plain": [
       "0.6847680301620388"
      ]
     },
     "execution_count": 10,
     "metadata": {},
     "output_type": "execute_result"
    }
   ],
   "source": [
    "rf_91.get('accuracy')"
   ]
  },
  {
   "cell_type": "code",
   "execution_count": 11,
   "metadata": {},
   "outputs": [],
   "source": [
    "# dp.plot_accuracy_bar_chart(rf_91.get('accuracy'), xgb_91.get('accuracy'))"
   ]
  },
  {
   "cell_type": "code",
   "execution_count": 12,
   "metadata": {},
   "outputs": [],
   "source": [
    "train_01, test_01 = pdf_01.randomSplit([0.8, 0.2], seed=42)"
   ]
  },
  {
   "cell_type": "code",
   "execution_count": 13,
   "metadata": {},
   "outputs": [],
   "source": [
    "rf_01 = dp.train_and_evaluate(train_01,test_01)"
   ]
  },
  {
   "cell_type": "code",
   "execution_count": 53,
   "metadata": {},
   "outputs": [],
   "source": [
    "def calculate_feature_importance(trained_model, train_data):\n",
    "    \n",
    "    \n",
    "    # Get feature importances\n",
    "    importances = trained_model.featureImportances.toArray()\n",
    "\n",
    "    # Get the names of the input features used in the model\n",
    "    input_features = train_data.schema[\"features\"].metadata[\"ml_attr\"][\"attrs\"][\"binary\"] + \\\n",
    "                    train_data.schema[\"features\"].metadata[\"ml_attr\"][\"attrs\"][\"numeric\"]\n",
    "    # Mapping for categorical features\n",
    "    original_to_encoded_mapping = {}\n",
    "\n",
    "    for feature_info in input_features:\n",
    "        encoded_feature_name = feature_info['name']\n",
    "        if '_encoded_' in encoded_feature_name:\n",
    "            original_feature = encoded_feature_name.split('_encoded_')[0]\n",
    "            if original_feature not in original_to_encoded_mapping:\n",
    "                original_to_encoded_mapping[original_feature] = []\n",
    "            original_to_encoded_mapping[original_feature].append(encoded_feature_name)\n",
    "\n",
    "    # Create a dictionary to map original features to their respective encoded features\n",
    "    original_feature_importances = {}\n",
    "    for original_feature, encoded_features in original_to_encoded_mapping.items():\n",
    "        importance_sum = 0.0\n",
    "        for encoded_feature in encoded_features:\n",
    "            idx = [feature['name'] for feature in input_features].index(encoded_feature)\n",
    "            importance_sum += importances[idx]\n",
    "        original_feature_importances[original_feature] = importance_sum\n",
    "\n",
    "    # Map numeric features and their importances\n",
    "    numeric_features = [feature['name'] for feature in input_features if '_encoded_' not in feature['name']]\n",
    "    for numeric_feature in numeric_features:\n",
    "        idx = [feature['name'] for feature in input_features].index(numeric_feature)\n",
    "        original_feature_importances[numeric_feature] = importances[idx]\n",
    "\n",
    "    # Calculate the total importance sum for normalization\n",
    "    total_importance = sum(original_feature_importances.values())\n",
    "\n",
    "    feature_importance_list = []\n",
    "    for feature, importance in original_feature_importances.items():\n",
    "        importance_percentage = (importance / total_importance) * 100\n",
    "        feature_importance_list.append({'Feature': feature, 'Importance': importance_percentage})\n",
    "\n",
    "    feature_importance_df = pd.DataFrame(feature_importance_list).sort_values(by='Importance', ascending=False)\n",
    "    return feature_importance_df"
   ]
  },
  {
   "cell_type": "code",
   "execution_count": 54,
   "metadata": {},
   "outputs": [],
   "source": [
    "import pandas as pd"
   ]
  },
  {
   "cell_type": "code",
   "execution_count": 82,
   "metadata": {},
   "outputs": [],
   "source": [
    "df = calculate_feature_importance(rf_model.stages[-1], train_91)"
   ]
  },
  {
   "cell_type": "code",
   "execution_count": 81,
   "metadata": {},
   "outputs": [
    {
     "data": {
      "text/html": [
       "<div>\n",
       "<style scoped>\n",
       "    .dataframe tbody tr th:only-of-type {\n",
       "        vertical-align: middle;\n",
       "    }\n",
       "\n",
       "    .dataframe tbody tr th {\n",
       "        vertical-align: top;\n",
       "    }\n",
       "\n",
       "    .dataframe thead th {\n",
       "        text-align: right;\n",
       "    }\n",
       "</style>\n",
       "<table border=\"1\" class=\"dataframe\">\n",
       "  <thead>\n",
       "    <tr style=\"text-align: right;\">\n",
       "      <th></th>\n",
       "      <th>Feature</th>\n",
       "      <th>Importance</th>\n",
       "    </tr>\n",
       "  </thead>\n",
       "  <tbody>\n",
       "    <tr>\n",
       "      <th>13</th>\n",
       "      <td>DepDelay</td>\n",
       "      <td>31.936338</td>\n",
       "    </tr>\n",
       "    <tr>\n",
       "      <th>11</th>\n",
       "      <td>ActualElapsedTime</td>\n",
       "      <td>13.585017</td>\n",
       "    </tr>\n",
       "    <tr>\n",
       "      <th>0</th>\n",
       "      <td>UniqueCarrier</td>\n",
       "      <td>12.598232</td>\n",
       "    </tr>\n",
       "    <tr>\n",
       "      <th>1</th>\n",
       "      <td>Origin</td>\n",
       "      <td>11.071603</td>\n",
       "    </tr>\n",
       "    <tr>\n",
       "      <th>6</th>\n",
       "      <td>DepTime</td>\n",
       "      <td>8.057729</td>\n",
       "    </tr>\n",
       "    <tr>\n",
       "      <th>8</th>\n",
       "      <td>ArrTime</td>\n",
       "      <td>5.954684</td>\n",
       "    </tr>\n",
       "    <tr>\n",
       "      <th>2</th>\n",
       "      <td>Dest</td>\n",
       "      <td>5.473170</td>\n",
       "    </tr>\n",
       "    <tr>\n",
       "      <th>9</th>\n",
       "      <td>CRSArrTime</td>\n",
       "      <td>2.805816</td>\n",
       "    </tr>\n",
       "    <tr>\n",
       "      <th>3</th>\n",
       "      <td>Month</td>\n",
       "      <td>2.401353</td>\n",
       "    </tr>\n",
       "    <tr>\n",
       "      <th>7</th>\n",
       "      <td>CRSDepTime</td>\n",
       "      <td>1.671531</td>\n",
       "    </tr>\n",
       "    <tr>\n",
       "      <th>5</th>\n",
       "      <td>DayOfWeek</td>\n",
       "      <td>1.567767</td>\n",
       "    </tr>\n",
       "    <tr>\n",
       "      <th>14</th>\n",
       "      <td>Distance</td>\n",
       "      <td>1.370725</td>\n",
       "    </tr>\n",
       "    <tr>\n",
       "      <th>12</th>\n",
       "      <td>CRSElapsedTime</td>\n",
       "      <td>0.832501</td>\n",
       "    </tr>\n",
       "    <tr>\n",
       "      <th>4</th>\n",
       "      <td>DayofMonth</td>\n",
       "      <td>0.662595</td>\n",
       "    </tr>\n",
       "    <tr>\n",
       "      <th>10</th>\n",
       "      <td>FlightNum</td>\n",
       "      <td>0.010939</td>\n",
       "    </tr>\n",
       "    <tr>\n",
       "      <th>15</th>\n",
       "      <td>Cancelled</td>\n",
       "      <td>0.000000</td>\n",
       "    </tr>\n",
       "    <tr>\n",
       "      <th>16</th>\n",
       "      <td>Diverted</td>\n",
       "      <td>0.000000</td>\n",
       "    </tr>\n",
       "  </tbody>\n",
       "</table>\n",
       "</div>"
      ],
      "text/plain": [
       "              Feature  Importance\n",
       "13           DepDelay   31.936338\n",
       "11  ActualElapsedTime   13.585017\n",
       "0       UniqueCarrier   12.598232\n",
       "1              Origin   11.071603\n",
       "6             DepTime    8.057729\n",
       "8             ArrTime    5.954684\n",
       "2                Dest    5.473170\n",
       "9          CRSArrTime    2.805816\n",
       "3               Month    2.401353\n",
       "7          CRSDepTime    1.671531\n",
       "5           DayOfWeek    1.567767\n",
       "14           Distance    1.370725\n",
       "12     CRSElapsedTime    0.832501\n",
       "4          DayofMonth    0.662595\n",
       "10          FlightNum    0.010939\n",
       "15          Cancelled    0.000000\n",
       "16           Diverted    0.000000"
      ]
     },
     "execution_count": 81,
     "metadata": {},
     "output_type": "execute_result"
    }
   ],
   "source": [
    "df"
   ]
  },
  {
   "cell_type": "code",
   "execution_count": 83,
   "metadata": {},
   "outputs": [
    {
     "data": {
      "text/html": [
       "<div>\n",
       "<style scoped>\n",
       "    .dataframe tbody tr th:only-of-type {\n",
       "        vertical-align: middle;\n",
       "    }\n",
       "\n",
       "    .dataframe tbody tr th {\n",
       "        vertical-align: top;\n",
       "    }\n",
       "\n",
       "    .dataframe thead th {\n",
       "        text-align: right;\n",
       "    }\n",
       "</style>\n",
       "<table border=\"1\" class=\"dataframe\">\n",
       "  <thead>\n",
       "    <tr style=\"text-align: right;\">\n",
       "      <th></th>\n",
       "      <th>Feature</th>\n",
       "      <th>Importance</th>\n",
       "    </tr>\n",
       "  </thead>\n",
       "  <tbody>\n",
       "    <tr>\n",
       "      <th>13</th>\n",
       "      <td>DepDelay</td>\n",
       "      <td>31.936338</td>\n",
       "    </tr>\n",
       "    <tr>\n",
       "      <th>11</th>\n",
       "      <td>ActualElapsedTime</td>\n",
       "      <td>13.585017</td>\n",
       "    </tr>\n",
       "    <tr>\n",
       "      <th>0</th>\n",
       "      <td>UniqueCarrier</td>\n",
       "      <td>12.598232</td>\n",
       "    </tr>\n",
       "    <tr>\n",
       "      <th>1</th>\n",
       "      <td>Origin</td>\n",
       "      <td>11.071603</td>\n",
       "    </tr>\n",
       "    <tr>\n",
       "      <th>6</th>\n",
       "      <td>DepTime</td>\n",
       "      <td>8.057729</td>\n",
       "    </tr>\n",
       "    <tr>\n",
       "      <th>8</th>\n",
       "      <td>ArrTime</td>\n",
       "      <td>5.954684</td>\n",
       "    </tr>\n",
       "    <tr>\n",
       "      <th>2</th>\n",
       "      <td>Dest</td>\n",
       "      <td>5.473170</td>\n",
       "    </tr>\n",
       "    <tr>\n",
       "      <th>9</th>\n",
       "      <td>CRSArrTime</td>\n",
       "      <td>2.805816</td>\n",
       "    </tr>\n",
       "    <tr>\n",
       "      <th>3</th>\n",
       "      <td>Month</td>\n",
       "      <td>2.401353</td>\n",
       "    </tr>\n",
       "    <tr>\n",
       "      <th>7</th>\n",
       "      <td>CRSDepTime</td>\n",
       "      <td>1.671531</td>\n",
       "    </tr>\n",
       "    <tr>\n",
       "      <th>5</th>\n",
       "      <td>DayOfWeek</td>\n",
       "      <td>1.567767</td>\n",
       "    </tr>\n",
       "    <tr>\n",
       "      <th>14</th>\n",
       "      <td>Distance</td>\n",
       "      <td>1.370725</td>\n",
       "    </tr>\n",
       "    <tr>\n",
       "      <th>12</th>\n",
       "      <td>CRSElapsedTime</td>\n",
       "      <td>0.832501</td>\n",
       "    </tr>\n",
       "    <tr>\n",
       "      <th>4</th>\n",
       "      <td>DayofMonth</td>\n",
       "      <td>0.662595</td>\n",
       "    </tr>\n",
       "    <tr>\n",
       "      <th>10</th>\n",
       "      <td>FlightNum</td>\n",
       "      <td>0.010939</td>\n",
       "    </tr>\n",
       "    <tr>\n",
       "      <th>15</th>\n",
       "      <td>Cancelled</td>\n",
       "      <td>0.000000</td>\n",
       "    </tr>\n",
       "    <tr>\n",
       "      <th>16</th>\n",
       "      <td>Diverted</td>\n",
       "      <td>0.000000</td>\n",
       "    </tr>\n",
       "  </tbody>\n",
       "</table>\n",
       "</div>"
      ],
      "text/plain": [
       "              Feature  Importance\n",
       "13           DepDelay   31.936338\n",
       "11  ActualElapsedTime   13.585017\n",
       "0       UniqueCarrier   12.598232\n",
       "1              Origin   11.071603\n",
       "6             DepTime    8.057729\n",
       "8             ArrTime    5.954684\n",
       "2                Dest    5.473170\n",
       "9          CRSArrTime    2.805816\n",
       "3               Month    2.401353\n",
       "7          CRSDepTime    1.671531\n",
       "5           DayOfWeek    1.567767\n",
       "14           Distance    1.370725\n",
       "12     CRSElapsedTime    0.832501\n",
       "4          DayofMonth    0.662595\n",
       "10          FlightNum    0.010939\n",
       "15          Cancelled    0.000000\n",
       "16           Diverted    0.000000"
      ]
     },
     "execution_count": 83,
     "metadata": {},
     "output_type": "execute_result"
    }
   ],
   "source": [
    "df"
   ]
  },
  {
   "cell_type": "code",
   "execution_count": 79,
   "metadata": {},
   "outputs": [],
   "source": [
    "import matplotlib.pyplot as plt"
   ]
  },
  {
   "cell_type": "code",
   "execution_count": 80,
   "metadata": {},
   "outputs": [
    {
     "data": {
      "image/png": "[encoded data removed]",
      "text/plain": [
       "<Figure size 1000x600 with 1 Axes>"
      ]
     },
     "metadata": {},
     "output_type": "display_data"
    }
   ],
   "source": [
    "plt.figure(figsize=(10, 6))\n",
    "plt.barh(df['Feature'], df['Importance'], color='skyblue')\n",
    "plt.xlabel('Importance (%)')\n",
    "plt.title('Feature Importance')\n",
    "plt.gca().invert_yaxis()  # Invert y-axis to display the most important feature on top\n",
    "plt.show()"
   ]
  }
 ],
 "metadata": {
  "kernelspec": {
   "display_name": ".venv",
   "language": "python",
   "name": "python3"
  },
  "language_info": {
   "codemirror_mode": {
    "name": "ipython",
    "version": 3
   },
   "file_extension": ".py",
   "mimetype": "text/x-python",
   "name": "python",
   "nbconvert_exporter": "python",
   "pygments_lexer": "ipython3",
   "version": "3.10.10"
  }
 },
 "nbformat": 4,
 "nbformat_minor": 2
}
