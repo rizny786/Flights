{
 "cells": [
  {
   "cell_type": "code",
   "execution_count": 1,
   "metadata": {},
   "outputs": [],
   "source": [
    "from sklearn.preprocessing import StandardScaler,LabelEncoder\n",
    "from sklearn.impute import SimpleImputer\n",
    "from sklearn.model_selection import train_test_split\n",
    "\n",
    "from xgboost import XGBClassifier\n",
    "from sklearn.linear_model import LogisticRegression\n",
    "from sklearn.tree import DecisionTreeClassifier\n",
    "from sklearn.metrics import accuracy_score\n",
    "\n",
    "import pandas as pd\n",
    "import matplotlib.pyplot as plt\n",
    "import seaborn as sns\n",
    "import numpy as np"
   ]
  },
  {
   "cell_type": "code",
   "execution_count": 2,
   "metadata": {},
   "outputs": [],
   "source": [
    "# 'Year','CRSDepTime','ArrTime','CRSArrTime','CRSElapsedTime'"
   ]
  },
  {
   "cell_type": "code",
   "execution_count": 3,
   "metadata": {},
   "outputs": [],
   "source": [
    "def load_data():\n",
    "    cols_91 = ['Month','DayofMonth','DayOfWeek','DepTime','UniqueCarrier','FlightNum','ActualElapsedTime','ArrDelay','DepDelay','Origin','Dest','Distance','Cancelled','Diverted']\n",
    "    cols_01 = ['Month','DayofMonth','DayOfWeek','DepTime','UniqueCarrier','FlightNum','TailNum','ActualElapsedTime','ArrDelay','DepDelay','Origin','Dest','Distance','TaxiIn','TaxiOut','Cancelled','Diverted']\n",
    "    return pd.read_csv(\"Data/1991.csv.gz\", encoding='cp1252', compression=\"gzip\", usecols=cols_91), pd.read_csv(\"Data/2001.csv.gz\", encoding='cp1252', compression=\"gzip\", usecols=cols_01)"
   ]
  },
  {
   "cell_type": "code",
   "execution_count": 4,
   "metadata": {},
   "outputs": [],
   "source": [
    "df91, df01 = load_data()"
   ]
  },
  {
   "cell_type": "code",
   "execution_count": 5,
   "metadata": {},
   "outputs": [],
   "source": [
    "df91.sample(100).to_csv('Data/sdf91.csv', index=False)\n",
    "df01.sample(100).to_csv('Data/sdf01.csv', index=False)"
   ]
  },
  {
   "cell_type": "code",
   "execution_count": 6,
   "metadata": {},
   "outputs": [],
   "source": [
    "def process_and_save_data(df, categorical_cols, numerical_cols, filename):\n",
    "    # Handling missing values\n",
    "    df = df.dropna().reset_index()  # Dropping rows with missing values or use df.fillna() to impute missing values\n",
    "\n",
    "    df['OnTime'] = df['ArrDelay'].apply(lambda x: 1 if x <= 0 else 0)\n",
    "\n",
    "    # Separate features and the modified target variable\n",
    "    X = df.drop(columns=['ArrDelay', 'OnTime'])  # Features\n",
    "    y = df['OnTime']  # Target variable\n",
    "\n",
    "    # Handle missing values in the numerical columns (if any)\n",
    "    imputer = SimpleImputer(strategy='mean')\n",
    "    X[numerical_cols] = imputer.fit_transform(X[numerical_cols])\n",
    "\n",
    "    # Scale numerical columns\n",
    "    scaler = StandardScaler()\n",
    "    X[numerical_cols] = scaler.fit_transform(X[numerical_cols])\n",
    "\n",
    "    # Apply Label Encoding to categorical columns\n",
    "    encoder = LabelEncoder()\n",
    "    X_encoded = X[categorical_cols].apply(encoder.fit_transform)\n",
    "\n",
    "    # Combine encoded and non-categorical columns\n",
    "    X_processed = pd.concat([X_encoded.reset_index(drop=True), X[numerical_cols].reset_index(drop=True)], axis=1)\n",
    "\n",
    "    # Combine X_processed and y into a single DataFrame\n",
    "    combined_df = pd.concat([X_processed, y], axis=1)\n",
    "\n",
    "    # Save the combined DataFrame to a CSV file\n",
    "    combined_df.sample(100).to_csv(filename, index=False)\n",
    "\n",
    "    return combined_df"
   ]
  },
  {
   "cell_type": "code",
   "execution_count": 7,
   "metadata": {},
   "outputs": [],
   "source": [
    "pdf91 = process_and_save_data(df91, ['UniqueCarrier', 'Origin', 'Dest'],['Month','DayofMonth','DayOfWeek','DepTime','FlightNum','ActualElapsedTime','DepDelay','Distance','Cancelled','Diverted'], 'pdf91.csv')"
   ]
  },
  {
   "cell_type": "code",
   "execution_count": 8,
   "metadata": {},
   "outputs": [],
   "source": [
    "pdf01 = process_and_save_data(df01, ['UniqueCarrier','TailNum' ,'Origin', 'Dest'],['Month','DayofMonth','DayOfWeek','DepTime','FlightNum','ActualElapsedTime','DepDelay','Distance','TaxiIn','TaxiOut','Cancelled','Diverted'], 'pdf01.csv')"
   ]
  },
  {
   "cell_type": "code",
   "execution_count": 9,
   "metadata": {},
   "outputs": [],
   "source": [
    "pdf91 = pdf91.dropna()\n",
    "pdf01 = pdf01.dropna()"
   ]
  },
  {
   "cell_type": "code",
   "execution_count": 12,
   "metadata": {},
   "outputs": [],
   "source": [
    "def train_decision_tree_classifier(processed_df):\n",
    "    # Separate features and target variable\n",
    "    X = processed_df.drop(columns=['OnTime'])  # Features\n",
    "    y = processed_df['OnTime']  # Target variable\n",
    "\n",
    "    # Splitting the data into train and test sets\n",
    "    X_train, X_test, y_train, y_test = train_test_split(X, y, test_size=0.2, random_state=42)\n",
    "\n",
    "    # Training the Decision Tree Classifier\n",
    "    dt_classifier = DecisionTreeClassifier(random_state=42)\n",
    "    dt_classifier.fit(X_train, y_train)\n",
    "\n",
    "    # Predict on the test set and calculate accuracy\n",
    "    y_pred = dt_classifier.predict(X_test)\n",
    "    accuracy = accuracy_score(y_test, y_pred)\n",
    "\n",
    "    return dt_classifier, accuracy\n"
   ]
  },
  {
   "cell_type": "code",
   "execution_count": null,
   "metadata": {},
   "outputs": [],
   "source": [
    "def train_xgboost(processed_df):\n",
    "    # Separate features and target variable\n",
    "    X = processed_df.drop(columns=['OnTime'])  # Features\n",
    "    y = processed_df['OnTime']  # Target variable\n",
    "\n",
    "    # Splitting the data into train and test sets\n",
    "    X_train, X_test, y_train, y_test = train_test_split(X, y, test_size=0.2, random_state=42)\n",
    "\n",
    "    # Training the XGBoost Classifier model\n",
    "    xgb_clf = XGBClassifier(random_state=42)\n",
    "    xgb_clf.fit(X_train, y_train)\n",
    "\n",
    "    # Predict on the test set and calculate accuracy\n",
    "    y_pred = xgb_clf.predict(X_test)\n",
    "    accuracy = accuracy_score(y_test, y_pred)\n",
    "\n",
    "    return xgb_clf, accuracy"
   ]
  },
  {
   "cell_type": "code",
   "execution_count": 14,
   "metadata": {},
   "outputs": [
    {
     "name": "stdout",
     "output_type": "stream",
     "text": [
      "Accuracy: 0.9103674570896325\n"
     ]
    }
   ],
   "source": [
    "dt91, a_dt91 = train_decision_tree_classifier(pdf91)\n",
    "print(\"Accuracy:\", a_dt91)"
   ]
  },
  {
   "cell_type": "code",
   "execution_count": 15,
   "metadata": {},
   "outputs": [
    {
     "name": "stdout",
     "output_type": "stream",
     "text": [
      "Accuracy: 0.859892032140108\n"
     ]
    }
   ],
   "source": [
    "xgb91, a_xgb91 = train_xgboost(pdf91)\n",
    "print(\"Accuracy:\", a_xgb91)"
   ]
  },
  {
   "cell_type": "code",
   "execution_count": 16,
   "metadata": {},
   "outputs": [],
   "source": [
    "def analyze_lr_features(trained_model, processed_df):\n",
    "    # Separate features and target variable\n",
    "    X = processed_df.drop(columns=['OnTime'])  # Features\n",
    "\n",
    "    # Extracting feature importance (using absolute coefficients)\n",
    "    feature_importance = pd.DataFrame({\n",
    "        'Feature': X.columns,\n",
    "        'Importance': np.abs(trained_model.coef_[0])\n",
    "    })\n",
    "\n",
    "    # Sorting features by importance\n",
    "    feature_importance = feature_importance.sort_values(by='Importance', ascending=False)\n",
    "\n",
    "    # Displaying the most important features\n",
    "    return feature_importance\n"
   ]
  },
  {
   "cell_type": "code",
   "execution_count": 17,
   "metadata": {},
   "outputs": [],
   "source": [
    "def analyze_dt_features(trained_model, processed_df):\n",
    "    # Separate features and target variable\n",
    "    X = processed_df.drop(columns=['OnTime'])  # Features\n",
    "\n",
    "    # Extracting feature importance\n",
    "    feature_importance = pd.DataFrame({\n",
    "        'Feature': X.columns,\n",
    "        'Importance': trained_model.feature_importances_\n",
    "    })\n",
    "\n",
    "    # Sorting features by importance\n",
    "    feature_importance = feature_importance.sort_values(by='Importance', ascending=False)\n",
    "\n",
    "    return feature_importance\n"
   ]
  },
  {
   "cell_type": "code",
   "execution_count": 18,
   "metadata": {},
   "outputs": [],
   "source": [
    "def analyze_xgb_features(trained_model, processed_df):\n",
    "    # Separate features and target variable\n",
    "    X = processed_df.drop(columns=['OnTime'])  # Features\n",
    "\n",
    "    # Extracting feature importance\n",
    "    feature_importance = pd.DataFrame({\n",
    "        'Feature': X.columns,\n",
    "        'Importance': trained_model.feature_importances_\n",
    "    })\n",
    "\n",
    "    # Sorting features by importance\n",
    "    feature_importance = feature_importance.sort_values(by='Importance', ascending=False)\n",
    "\n",
    "    return feature_importance\n"
   ]
  },
  {
   "cell_type": "code",
   "execution_count": 20,
   "metadata": {},
   "outputs": [],
   "source": [
    "dt_feature_importance_91 = analyze_dt_features(dt91, pdf91)"
   ]
  },
  {
   "cell_type": "code",
   "execution_count": 21,
   "metadata": {},
   "outputs": [],
   "source": [
    "xgb_feature_importance_91 = analyze_xgb_features(xgb91, pdf91)"
   ]
  },
  {
   "cell_type": "code",
   "execution_count": 22,
   "metadata": {},
   "outputs": [],
   "source": [
    "def plot_model_accuracy(accuracies):\n",
    "    models = ['Decision Tree', 'XGBoost']\n",
    "    plt.figure(figsize=(10, 6))\n",
    "    plt.bar(models, accuracies, color=['blue', 'green'])\n",
    "    plt.xlabel('Models')\n",
    "    plt.ylabel('Accuracy')\n",
    "    plt.title('Model Accuracy Comparison')\n",
    "    plt.ylim(0, 1)  # Set the y-axis limit to match accuracy values (0-1)\n",
    "    plt.show()"
   ]
  },
  {
   "cell_type": "code",
   "execution_count": 23,
   "metadata": {},
   "outputs": [],
   "source": [
    "def combine_feature_importance_dfs(dt_feature_importance, xgb_feature_importance):\n",
    "    dt_feature_importance['Model'] = 'Decision Tree'\n",
    "    xgb_feature_importance['Model'] = 'XGBoost'\n",
    "    \n",
    "    combined_df = pd.concat([dt_feature_importance, xgb_feature_importance], ignore_index=True)\n",
    "    return combined_df"
   ]
  },
  {
   "cell_type": "code",
   "execution_count": 24,
   "metadata": {},
   "outputs": [],
   "source": [
    "def plot_feature_importance(combined_feature_importance):\n",
    "    plt.figure(figsize=(12, 8))\n",
    "    sns.barplot(x='Feature', y='Importance', hue='Model', data=combined_feature_importance, palette='viridis')\n",
    "    plt.xlabel('Features')\n",
    "    plt.ylabel('Importance')\n",
    "    plt.title('Feature Importance Comparison')\n",
    "    plt.xticks(rotation=90)  # Rotate x-axis labels for better readability\n",
    "    plt.legend()\n",
    "    plt.tight_layout()\n",
    "    plt.show()\n"
   ]
  },
  {
   "cell_type": "code",
   "execution_count": 25,
   "metadata": {},
   "outputs": [
    {
     "data": {
      "image/png": "[encoded data removed]",
      "text/plain": [
       "<Figure size 1000x600 with 1 Axes>"
      ]
     },
     "metadata": {},
     "output_type": "display_data"
    }
   ],
   "source": [
    "plot_model_accuracy([a_dt91,a_xgb91])"
   ]
  },
  {
   "cell_type": "code",
   "execution_count": 26,
   "metadata": {},
   "outputs": [
    {
     "data": {
      "image/png": "[encoded data removed]",
      "text/plain": [
       "<Figure size 1200x800 with 1 Axes>"
      ]
     },
     "metadata": {},
     "output_type": "display_data"
    }
   ],
   "source": [
    "combined_feature_importance = combine_feature_importance_dfs(dt_feature_importance_91, xgb_feature_importance_91)\n",
    "\n",
    "plot_feature_importance(combined_feature_importance)"
   ]
  },
  {
   "cell_type": "code",
   "execution_count": 27,
   "metadata": {},
   "outputs": [],
   "source": [
    "combined_feature_importance.to_csv('features_importance.csv')"
   ]
  },
  {
   "cell_type": "code",
   "execution_count": 28,
   "metadata": {},
   "outputs": [
    {
     "data": {
      "text/html": [
       "<div>\n",
       "<style scoped>\n",
       "    .dataframe tbody tr th:only-of-type {\n",
       "        vertical-align: middle;\n",
       "    }\n",
       "\n",
       "    .dataframe tbody tr th {\n",
       "        vertical-align: top;\n",
       "    }\n",
       "\n",
       "    .dataframe thead th {\n",
       "        text-align: right;\n",
       "    }\n",
       "</style>\n",
       "<table border=\"1\" class=\"dataframe\">\n",
       "  <thead>\n",
       "    <tr style=\"text-align: right;\">\n",
       "      <th></th>\n",
       "      <th>Feature</th>\n",
       "      <th>Importance</th>\n",
       "      <th>Model</th>\n",
       "    </tr>\n",
       "  </thead>\n",
       "  <tbody>\n",
       "    <tr>\n",
       "      <th>0</th>\n",
       "      <td>DepDelay</td>\n",
       "      <td>5.777509</td>\n",
       "      <td>Logistic Regression</td>\n",
       "    </tr>\n",
       "    <tr>\n",
       "      <th>1</th>\n",
       "      <td>ActualElapsedTime</td>\n",
       "      <td>3.245403</td>\n",
       "      <td>Logistic Regression</td>\n",
       "    </tr>\n",
       "    <tr>\n",
       "      <th>2</th>\n",
       "      <td>Distance</td>\n",
       "      <td>3.211156</td>\n",
       "      <td>Logistic Regression</td>\n",
       "    </tr>\n",
       "    <tr>\n",
       "      <th>3</th>\n",
       "      <td>DepTime</td>\n",
       "      <td>0.118943</td>\n",
       "      <td>Logistic Regression</td>\n",
       "    </tr>\n",
       "    <tr>\n",
       "      <th>4</th>\n",
       "      <td>DayOfWeek</td>\n",
       "      <td>0.049325</td>\n",
       "      <td>Logistic Regression</td>\n",
       "    </tr>\n",
       "    <tr>\n",
       "      <th>5</th>\n",
       "      <td>UniqueCarrier</td>\n",
       "      <td>0.041940</td>\n",
       "      <td>Logistic Regression</td>\n",
       "    </tr>\n",
       "    <tr>\n",
       "      <th>6</th>\n",
       "      <td>FlightNum</td>\n",
       "      <td>0.034891</td>\n",
       "      <td>Logistic Regression</td>\n",
       "    </tr>\n",
       "    <tr>\n",
       "      <th>7</th>\n",
       "      <td>Month</td>\n",
       "      <td>0.028725</td>\n",
       "      <td>Logistic Regression</td>\n",
       "    </tr>\n",
       "    <tr>\n",
       "      <th>8</th>\n",
       "      <td>Dest</td>\n",
       "      <td>0.002538</td>\n",
       "      <td>Logistic Regression</td>\n",
       "    </tr>\n",
       "    <tr>\n",
       "      <th>9</th>\n",
       "      <td>DayofMonth</td>\n",
       "      <td>0.002317</td>\n",
       "      <td>Logistic Regression</td>\n",
       "    </tr>\n",
       "    <tr>\n",
       "      <th>10</th>\n",
       "      <td>Origin</td>\n",
       "      <td>0.000290</td>\n",
       "      <td>Logistic Regression</td>\n",
       "    </tr>\n",
       "    <tr>\n",
       "      <th>11</th>\n",
       "      <td>Cancelled</td>\n",
       "      <td>0.000000</td>\n",
       "      <td>Logistic Regression</td>\n",
       "    </tr>\n",
       "    <tr>\n",
       "      <th>12</th>\n",
       "      <td>Diverted</td>\n",
       "      <td>0.000000</td>\n",
       "      <td>Logistic Regression</td>\n",
       "    </tr>\n",
       "    <tr>\n",
       "      <th>13</th>\n",
       "      <td>DepDelay</td>\n",
       "      <td>0.240266</td>\n",
       "      <td>Decision Tree</td>\n",
       "    </tr>\n",
       "    <tr>\n",
       "      <th>14</th>\n",
       "      <td>Distance</td>\n",
       "      <td>0.163556</td>\n",
       "      <td>Decision Tree</td>\n",
       "    </tr>\n",
       "    <tr>\n",
       "      <th>15</th>\n",
       "      <td>ActualElapsedTime</td>\n",
       "      <td>0.163086</td>\n",
       "      <td>Decision Tree</td>\n",
       "    </tr>\n",
       "    <tr>\n",
       "      <th>16</th>\n",
       "      <td>DepTime</td>\n",
       "      <td>0.087017</td>\n",
       "      <td>Decision Tree</td>\n",
       "    </tr>\n",
       "    <tr>\n",
       "      <th>17</th>\n",
       "      <td>Origin</td>\n",
       "      <td>0.069494</td>\n",
       "      <td>Decision Tree</td>\n",
       "    </tr>\n",
       "    <tr>\n",
       "      <th>18</th>\n",
       "      <td>Dest</td>\n",
       "      <td>0.064709</td>\n",
       "      <td>Decision Tree</td>\n",
       "    </tr>\n",
       "    <tr>\n",
       "      <th>19</th>\n",
       "      <td>FlightNum</td>\n",
       "      <td>0.064443</td>\n",
       "      <td>Decision Tree</td>\n",
       "    </tr>\n",
       "    <tr>\n",
       "      <th>20</th>\n",
       "      <td>Month</td>\n",
       "      <td>0.058703</td>\n",
       "      <td>Decision Tree</td>\n",
       "    </tr>\n",
       "    <tr>\n",
       "      <th>21</th>\n",
       "      <td>UniqueCarrier</td>\n",
       "      <td>0.044000</td>\n",
       "      <td>Decision Tree</td>\n",
       "    </tr>\n",
       "    <tr>\n",
       "      <th>22</th>\n",
       "      <td>DayofMonth</td>\n",
       "      <td>0.028447</td>\n",
       "      <td>Decision Tree</td>\n",
       "    </tr>\n",
       "    <tr>\n",
       "      <th>23</th>\n",
       "      <td>DayOfWeek</td>\n",
       "      <td>0.016279</td>\n",
       "      <td>Decision Tree</td>\n",
       "    </tr>\n",
       "    <tr>\n",
       "      <th>24</th>\n",
       "      <td>Cancelled</td>\n",
       "      <td>0.000000</td>\n",
       "      <td>Decision Tree</td>\n",
       "    </tr>\n",
       "    <tr>\n",
       "      <th>25</th>\n",
       "      <td>Diverted</td>\n",
       "      <td>0.000000</td>\n",
       "      <td>Decision Tree</td>\n",
       "    </tr>\n",
       "    <tr>\n",
       "      <th>26</th>\n",
       "      <td>DepDelay</td>\n",
       "      <td>0.577845</td>\n",
       "      <td>XGBoost</td>\n",
       "    </tr>\n",
       "    <tr>\n",
       "      <th>27</th>\n",
       "      <td>Distance</td>\n",
       "      <td>0.112711</td>\n",
       "      <td>XGBoost</td>\n",
       "    </tr>\n",
       "    <tr>\n",
       "      <th>28</th>\n",
       "      <td>ActualElapsedTime</td>\n",
       "      <td>0.095165</td>\n",
       "      <td>XGBoost</td>\n",
       "    </tr>\n",
       "    <tr>\n",
       "      <th>29</th>\n",
       "      <td>Origin</td>\n",
       "      <td>0.047722</td>\n",
       "      <td>XGBoost</td>\n",
       "    </tr>\n",
       "    <tr>\n",
       "      <th>30</th>\n",
       "      <td>UniqueCarrier</td>\n",
       "      <td>0.039375</td>\n",
       "      <td>XGBoost</td>\n",
       "    </tr>\n",
       "    <tr>\n",
       "      <th>31</th>\n",
       "      <td>Dest</td>\n",
       "      <td>0.033894</td>\n",
       "      <td>XGBoost</td>\n",
       "    </tr>\n",
       "    <tr>\n",
       "      <th>32</th>\n",
       "      <td>DayOfWeek</td>\n",
       "      <td>0.032828</td>\n",
       "      <td>XGBoost</td>\n",
       "    </tr>\n",
       "    <tr>\n",
       "      <th>33</th>\n",
       "      <td>Month</td>\n",
       "      <td>0.021722</td>\n",
       "      <td>XGBoost</td>\n",
       "    </tr>\n",
       "    <tr>\n",
       "      <th>34</th>\n",
       "      <td>DepTime</td>\n",
       "      <td>0.016910</td>\n",
       "      <td>XGBoost</td>\n",
       "    </tr>\n",
       "    <tr>\n",
       "      <th>35</th>\n",
       "      <td>FlightNum</td>\n",
       "      <td>0.014469</td>\n",
       "      <td>XGBoost</td>\n",
       "    </tr>\n",
       "    <tr>\n",
       "      <th>36</th>\n",
       "      <td>DayofMonth</td>\n",
       "      <td>0.007359</td>\n",
       "      <td>XGBoost</td>\n",
       "    </tr>\n",
       "    <tr>\n",
       "      <th>37</th>\n",
       "      <td>Cancelled</td>\n",
       "      <td>0.000000</td>\n",
       "      <td>XGBoost</td>\n",
       "    </tr>\n",
       "    <tr>\n",
       "      <th>38</th>\n",
       "      <td>Diverted</td>\n",
       "      <td>0.000000</td>\n",
       "      <td>XGBoost</td>\n",
       "    </tr>\n",
       "  </tbody>\n",
       "</table>\n",
       "</div>"
      ],
      "text/plain": [
       "              Feature  Importance                Model\n",
       "0            DepDelay    5.777509  Logistic Regression\n",
       "1   ActualElapsedTime    3.245403  Logistic Regression\n",
       "2            Distance    3.211156  Logistic Regression\n",
       "3             DepTime    0.118943  Logistic Regression\n",
       "4           DayOfWeek    0.049325  Logistic Regression\n",
       "5       UniqueCarrier    0.041940  Logistic Regression\n",
       "6           FlightNum    0.034891  Logistic Regression\n",
       "7               Month    0.028725  Logistic Regression\n",
       "8                Dest    0.002538  Logistic Regression\n",
       "9          DayofMonth    0.002317  Logistic Regression\n",
       "10             Origin    0.000290  Logistic Regression\n",
       "11          Cancelled    0.000000  Logistic Regression\n",
       "12           Diverted    0.000000  Logistic Regression\n",
       "13           DepDelay    0.240266        Decision Tree\n",
       "14           Distance    0.163556        Decision Tree\n",
       "15  ActualElapsedTime    0.163086        Decision Tree\n",
       "16            DepTime    0.087017        Decision Tree\n",
       "17             Origin    0.069494        Decision Tree\n",
       "18               Dest    0.064709        Decision Tree\n",
       "19          FlightNum    0.064443        Decision Tree\n",
       "20              Month    0.058703        Decision Tree\n",
       "21      UniqueCarrier    0.044000        Decision Tree\n",
       "22         DayofMonth    0.028447        Decision Tree\n",
       "23          DayOfWeek    0.016279        Decision Tree\n",
       "24          Cancelled    0.000000        Decision Tree\n",
       "25           Diverted    0.000000        Decision Tree\n",
       "26           DepDelay    0.577845              XGBoost\n",
       "27           Distance    0.112711              XGBoost\n",
       "28  ActualElapsedTime    0.095165              XGBoost\n",
       "29             Origin    0.047722              XGBoost\n",
       "30      UniqueCarrier    0.039375              XGBoost\n",
       "31               Dest    0.033894              XGBoost\n",
       "32          DayOfWeek    0.032828              XGBoost\n",
       "33              Month    0.021722              XGBoost\n",
       "34            DepTime    0.016910              XGBoost\n",
       "35          FlightNum    0.014469              XGBoost\n",
       "36         DayofMonth    0.007359              XGBoost\n",
       "37          Cancelled    0.000000              XGBoost\n",
       "38           Diverted    0.000000              XGBoost"
      ]
     },
     "execution_count": 28,
     "metadata": {},
     "output_type": "execute_result"
    }
   ],
   "source": [
    "combined_feature_importance"
   ]
  }
 ],
 "metadata": {
  "kernelspec": {
   "display_name": "Python 3",
   "language": "python",
   "name": "python3"
  },
  "language_info": {
   "codemirror_mode": {
    "name": "ipython",
    "version": 3
   },
   "file_extension": ".py",
   "mimetype": "text/x-python",
   "name": "python",
   "nbconvert_exporter": "python",
   "pygments_lexer": "ipython3",
   "version": "3.10.10"
  }
 },
 "nbformat": 4,
 "nbformat_minor": 2
}
