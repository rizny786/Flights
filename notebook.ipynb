{
 "cells": [
  {
   "cell_type": "code",
   "execution_count": 1,
   "metadata": {},
   "outputs": [],
   "source": [
    "from sklearn.preprocessing import StandardScaler,LabelEncoder\n",
    "from sklearn.impute import SimpleImputer\n",
    "from sklearn.model_selection import train_test_split\n",
    "import joblib\n",
    "from xgboost import XGBClassifier\n",
    "from sklearn.linear_model import LogisticRegression\n",
    "from sklearn.tree import DecisionTreeClassifier\n",
    "from sklearn.metrics import accuracy_score\n",
    "\n",
    "import pandas as pd\n",
    "import matplotlib.pyplot as plt\n",
    "import seaborn as sns\n",
    "import numpy as np"
   ]
  },
  {
   "cell_type": "code",
   "execution_count": 2,
   "metadata": {},
   "outputs": [],
   "source": [
    "import functions as f"
   ]
  },
  {
   "cell_type": "markdown",
   "metadata": {},
   "source": [
    "### 1. Load Data"
   ]
  },
  {
   "cell_type": "code",
   "execution_count": 3,
   "metadata": {},
   "outputs": [],
   "source": [
    "df91, df01 = f.load_data()"
   ]
  },
  {
   "cell_type": "markdown",
   "metadata": {},
   "source": [
    "### 2. Process Data"
   ]
  },
  {
   "cell_type": "code",
   "execution_count": 4,
   "metadata": {},
   "outputs": [],
   "source": [
    "pdf91 = f.process_data(df91, ['UniqueCarrier', 'Origin', 'Dest'],['Month','DayofMonth','DayOfWeek','DepTime','FlightNum','ActualElapsedTime','DepDelay','Distance','Cancelled','Diverted'], 'reg')"
   ]
  },
  {
   "cell_type": "code",
   "execution_count": 5,
   "metadata": {},
   "outputs": [],
   "source": [
    "pdf01 = f.process_data(df01, ['UniqueCarrier','TailNum' ,'Origin', 'Dest'],['Month','DayofMonth','DayOfWeek','DepTime','FlightNum','ActualElapsedTime','DepDelay','Distance','TaxiIn','TaxiOut','Cancelled','Diverted'], 'reg')"
   ]
  },
  {
   "cell_type": "code",
   "execution_count": 6,
   "metadata": {},
   "outputs": [
    {
     "data": {
      "text/html": [
       "<div>\n",
       "<style scoped>\n",
       "    .dataframe tbody tr th:only-of-type {\n",
       "        vertical-align: middle;\n",
       "    }\n",
       "\n",
       "    .dataframe tbody tr th {\n",
       "        vertical-align: top;\n",
       "    }\n",
       "\n",
       "    .dataframe thead th {\n",
       "        text-align: right;\n",
       "    }\n",
       "</style>\n",
       "<table border=\"1\" class=\"dataframe\">\n",
       "  <thead>\n",
       "    <tr style=\"text-align: right;\">\n",
       "      <th></th>\n",
       "      <th>UniqueCarrier</th>\n",
       "      <th>TailNum</th>\n",
       "      <th>Origin</th>\n",
       "      <th>Dest</th>\n",
       "      <th>Month</th>\n",
       "      <th>DayofMonth</th>\n",
       "      <th>DayOfWeek</th>\n",
       "      <th>DepTime</th>\n",
       "      <th>FlightNum</th>\n",
       "      <th>ActualElapsedTime</th>\n",
       "      <th>DepDelay</th>\n",
       "      <th>Distance</th>\n",
       "      <th>TaxiIn</th>\n",
       "      <th>TaxiOut</th>\n",
       "      <th>Cancelled</th>\n",
       "      <th>Diverted</th>\n",
       "      <th>ArrDelay</th>\n",
       "    </tr>\n",
       "  </thead>\n",
       "  <tbody>\n",
       "    <tr>\n",
       "      <th>0</th>\n",
       "      <td>10</td>\n",
       "      <td>3363</td>\n",
       "      <td>36</td>\n",
       "      <td>45</td>\n",
       "      <td>-1.564744</td>\n",
       "      <td>0.145763</td>\n",
       "      <td>-0.475404</td>\n",
       "      <td>0.947524</td>\n",
       "      <td>-0.814716</td>\n",
       "      <td>-0.566219</td>\n",
       "      <td>-0.429101</td>\n",
       "      <td>-0.650946</td>\n",
       "      <td>-0.292296</td>\n",
       "      <td>0.455833</td>\n",
       "      <td>0.0</td>\n",
       "      <td>0.0</td>\n",
       "      <td>-3.0</td>\n",
       "    </tr>\n",
       "    <tr>\n",
       "      <th>1</th>\n",
       "      <td>10</td>\n",
       "      <td>3417</td>\n",
       "      <td>36</td>\n",
       "      <td>45</td>\n",
       "      <td>-1.564744</td>\n",
       "      <td>0.259039</td>\n",
       "      <td>0.025112</td>\n",
       "      <td>0.945452</td>\n",
       "      <td>-0.814716</td>\n",
       "      <td>-0.453071</td>\n",
       "      <td>-0.464519</td>\n",
       "      <td>-0.650946</td>\n",
       "      <td>0.553923</td>\n",
       "      <td>0.455833</td>\n",
       "      <td>0.0</td>\n",
       "      <td>0.0</td>\n",
       "      <td>4.0</td>\n",
       "    </tr>\n",
       "    <tr>\n",
       "      <th>2</th>\n",
       "      <td>10</td>\n",
       "      <td>3369</td>\n",
       "      <td>36</td>\n",
       "      <td>45</td>\n",
       "      <td>-1.564744</td>\n",
       "      <td>0.372315</td>\n",
       "      <td>0.525627</td>\n",
       "      <td>0.978604</td>\n",
       "      <td>-0.814716</td>\n",
       "      <td>-0.410640</td>\n",
       "      <td>0.102172</td>\n",
       "      <td>-0.650946</td>\n",
       "      <td>-0.080741</td>\n",
       "      <td>-0.539540</td>\n",
       "      <td>0.0</td>\n",
       "      <td>0.0</td>\n",
       "      <td>23.0</td>\n",
       "    </tr>\n",
       "    <tr>\n",
       "      <th>3</th>\n",
       "      <td>10</td>\n",
       "      <td>3366</td>\n",
       "      <td>36</td>\n",
       "      <td>45</td>\n",
       "      <td>-1.564744</td>\n",
       "      <td>0.485591</td>\n",
       "      <td>1.026142</td>\n",
       "      <td>0.949596</td>\n",
       "      <td>-0.814716</td>\n",
       "      <td>-0.396497</td>\n",
       "      <td>-0.393683</td>\n",
       "      <td>-0.650946</td>\n",
       "      <td>-0.503850</td>\n",
       "      <td>1.152595</td>\n",
       "      <td>0.0</td>\n",
       "      <td>0.0</td>\n",
       "      <td>10.0</td>\n",
       "    </tr>\n",
       "    <tr>\n",
       "      <th>4</th>\n",
       "      <td>10</td>\n",
       "      <td>3721</td>\n",
       "      <td>36</td>\n",
       "      <td>45</td>\n",
       "      <td>-1.564744</td>\n",
       "      <td>0.598867</td>\n",
       "      <td>1.526657</td>\n",
       "      <td>0.955812</td>\n",
       "      <td>-0.814716</td>\n",
       "      <td>-0.297493</td>\n",
       "      <td>-0.287428</td>\n",
       "      <td>-0.650946</td>\n",
       "      <td>-0.503850</td>\n",
       "      <td>2.247505</td>\n",
       "      <td>0.0</td>\n",
       "      <td>0.0</td>\n",
       "      <td>20.0</td>\n",
       "    </tr>\n",
       "    <tr>\n",
       "      <th>...</th>\n",
       "      <td>...</td>\n",
       "      <td>...</td>\n",
       "      <td>...</td>\n",
       "      <td>...</td>\n",
       "      <td>...</td>\n",
       "      <td>...</td>\n",
       "      <td>...</td>\n",
       "      <td>...</td>\n",
       "      <td>...</td>\n",
       "      <td>...</td>\n",
       "      <td>...</td>\n",
       "      <td>...</td>\n",
       "      <td>...</td>\n",
       "      <td>...</td>\n",
       "      <td>...</td>\n",
       "      <td>...</td>\n",
       "      <td>...</td>\n",
       "    </tr>\n",
       "    <tr>\n",
       "      <th>5723668</th>\n",
       "      <td>4</td>\n",
       "      <td>512</td>\n",
       "      <td>164</td>\n",
       "      <td>58</td>\n",
       "      <td>1.688005</td>\n",
       "      <td>-0.194065</td>\n",
       "      <td>0.525627</td>\n",
       "      <td>-1.335757</td>\n",
       "      <td>-0.552192</td>\n",
       "      <td>0.706694</td>\n",
       "      <td>-0.145755</td>\n",
       "      <td>0.789517</td>\n",
       "      <td>1.611696</td>\n",
       "      <td>-0.240928</td>\n",
       "      <td>0.0</td>\n",
       "      <td>0.0</td>\n",
       "      <td>4.0</td>\n",
       "    </tr>\n",
       "    <tr>\n",
       "      <th>5723669</th>\n",
       "      <td>4</td>\n",
       "      <td>510</td>\n",
       "      <td>164</td>\n",
       "      <td>58</td>\n",
       "      <td>1.688005</td>\n",
       "      <td>-0.080789</td>\n",
       "      <td>1.026142</td>\n",
       "      <td>-1.327469</td>\n",
       "      <td>-0.552192</td>\n",
       "      <td>0.635977</td>\n",
       "      <td>-0.004083</td>\n",
       "      <td>0.789517</td>\n",
       "      <td>0.553923</td>\n",
       "      <td>0.256759</td>\n",
       "      <td>0.0</td>\n",
       "      <td>0.0</td>\n",
       "      <td>3.0</td>\n",
       "    </tr>\n",
       "    <tr>\n",
       "      <th>5723670</th>\n",
       "      <td>4</td>\n",
       "      <td>506</td>\n",
       "      <td>164</td>\n",
       "      <td>58</td>\n",
       "      <td>1.688005</td>\n",
       "      <td>0.032487</td>\n",
       "      <td>1.526657</td>\n",
       "      <td>-1.435210</td>\n",
       "      <td>-0.552192</td>\n",
       "      <td>0.650120</td>\n",
       "      <td>-0.429101</td>\n",
       "      <td>0.789517</td>\n",
       "      <td>0.130813</td>\n",
       "      <td>-0.440002</td>\n",
       "      <td>0.0</td>\n",
       "      <td>0.0</td>\n",
       "      <td>-8.0</td>\n",
       "    </tr>\n",
       "    <tr>\n",
       "      <th>5723671</th>\n",
       "      <td>4</td>\n",
       "      <td>4206</td>\n",
       "      <td>164</td>\n",
       "      <td>58</td>\n",
       "      <td>1.688005</td>\n",
       "      <td>0.145763</td>\n",
       "      <td>-1.476434</td>\n",
       "      <td>-1.435210</td>\n",
       "      <td>-0.552192</td>\n",
       "      <td>0.706694</td>\n",
       "      <td>-0.429101</td>\n",
       "      <td>0.789517</td>\n",
       "      <td>1.400141</td>\n",
       "      <td>-0.440002</td>\n",
       "      <td>0.0</td>\n",
       "      <td>0.0</td>\n",
       "      <td>-4.0</td>\n",
       "    </tr>\n",
       "    <tr>\n",
       "      <th>5723672</th>\n",
       "      <td>4</td>\n",
       "      <td>4201</td>\n",
       "      <td>164</td>\n",
       "      <td>58</td>\n",
       "      <td>1.688005</td>\n",
       "      <td>0.259039</td>\n",
       "      <td>-0.975919</td>\n",
       "      <td>-1.325397</td>\n",
       "      <td>-0.552192</td>\n",
       "      <td>0.621833</td>\n",
       "      <td>0.031335</td>\n",
       "      <td>0.789517</td>\n",
       "      <td>0.765477</td>\n",
       "      <td>0.057684</td>\n",
       "      <td>0.0</td>\n",
       "      <td>0.0</td>\n",
       "      <td>3.0</td>\n",
       "    </tr>\n",
       "  </tbody>\n",
       "</table>\n",
       "<p>5723673 rows × 17 columns</p>\n",
       "</div>"
      ],
      "text/plain": [
       "         UniqueCarrier  TailNum  Origin  Dest     Month  DayofMonth  \\\n",
       "0                   10     3363      36    45 -1.564744    0.145763   \n",
       "1                   10     3417      36    45 -1.564744    0.259039   \n",
       "2                   10     3369      36    45 -1.564744    0.372315   \n",
       "3                   10     3366      36    45 -1.564744    0.485591   \n",
       "4                   10     3721      36    45 -1.564744    0.598867   \n",
       "...                ...      ...     ...   ...       ...         ...   \n",
       "5723668              4      512     164    58  1.688005   -0.194065   \n",
       "5723669              4      510     164    58  1.688005   -0.080789   \n",
       "5723670              4      506     164    58  1.688005    0.032487   \n",
       "5723671              4     4206     164    58  1.688005    0.145763   \n",
       "5723672              4     4201     164    58  1.688005    0.259039   \n",
       "\n",
       "         DayOfWeek   DepTime  FlightNum  ActualElapsedTime  DepDelay  \\\n",
       "0        -0.475404  0.947524  -0.814716          -0.566219 -0.429101   \n",
       "1         0.025112  0.945452  -0.814716          -0.453071 -0.464519   \n",
       "2         0.525627  0.978604  -0.814716          -0.410640  0.102172   \n",
       "3         1.026142  0.949596  -0.814716          -0.396497 -0.393683   \n",
       "4         1.526657  0.955812  -0.814716          -0.297493 -0.287428   \n",
       "...            ...       ...        ...                ...       ...   \n",
       "5723668   0.525627 -1.335757  -0.552192           0.706694 -0.145755   \n",
       "5723669   1.026142 -1.327469  -0.552192           0.635977 -0.004083   \n",
       "5723670   1.526657 -1.435210  -0.552192           0.650120 -0.429101   \n",
       "5723671  -1.476434 -1.435210  -0.552192           0.706694 -0.429101   \n",
       "5723672  -0.975919 -1.325397  -0.552192           0.621833  0.031335   \n",
       "\n",
       "         Distance    TaxiIn   TaxiOut  Cancelled  Diverted  ArrDelay  \n",
       "0       -0.650946 -0.292296  0.455833        0.0       0.0      -3.0  \n",
       "1       -0.650946  0.553923  0.455833        0.0       0.0       4.0  \n",
       "2       -0.650946 -0.080741 -0.539540        0.0       0.0      23.0  \n",
       "3       -0.650946 -0.503850  1.152595        0.0       0.0      10.0  \n",
       "4       -0.650946 -0.503850  2.247505        0.0       0.0      20.0  \n",
       "...           ...       ...       ...        ...       ...       ...  \n",
       "5723668  0.789517  1.611696 -0.240928        0.0       0.0       4.0  \n",
       "5723669  0.789517  0.553923  0.256759        0.0       0.0       3.0  \n",
       "5723670  0.789517  0.130813 -0.440002        0.0       0.0      -8.0  \n",
       "5723671  0.789517  1.400141 -0.440002        0.0       0.0      -4.0  \n",
       "5723672  0.789517  0.765477  0.057684        0.0       0.0       3.0  \n",
       "\n",
       "[5723673 rows x 17 columns]"
      ]
     },
     "execution_count": 6,
     "metadata": {},
     "output_type": "execute_result"
    }
   ],
   "source": [
    "pdf01"
   ]
  },
  {
   "cell_type": "markdown",
   "metadata": {},
   "source": [
    "### 3. Modeling"
   ]
  },
  {
   "cell_type": "markdown",
   "metadata": {},
   "source": [
    "#### 3.1 Decision Tree"
   ]
  },
  {
   "cell_type": "code",
   "execution_count": 7,
   "metadata": {},
   "outputs": [],
   "source": [
    "dt91, acc_dt91 = f.train_dt(pdf91,'reg')\n",
    "dt01, acc_dt01 = f.train_dt(pdf01,'reg')"
   ]
  },
  {
   "cell_type": "code",
   "execution_count": 21,
   "metadata": {},
   "outputs": [
    {
     "data": {
      "text/plain": [
       "array(['UniqueCarrier', 'Origin', 'Dest', 'Month', 'DayofMonth',\n",
       "       'DayOfWeek', 'DepTime', 'FlightNum', 'ActualElapsedTime',\n",
       "       'DepDelay', 'Distance', 'Cancelled', 'Diverted'], dtype=object)"
      ]
     },
     "execution_count": 21,
     "metadata": {},
     "output_type": "execute_result"
    }
   ],
   "source": [
    "dt91.feature_names_in_"
   ]
  },
  {
   "cell_type": "code",
   "execution_count": 22,
   "metadata": {},
   "outputs": [
    {
     "data": {
      "text/plain": [
       "array([0.01064774, 0.01958617, 0.01887282, 0.01101477, 0.00394306,\n",
       "       0.00283782, 0.01483493, 0.01273796, 0.09152912, 0.72958833,\n",
       "       0.08440728, 0.        , 0.        ])"
      ]
     },
     "execution_count": 22,
     "metadata": {},
     "output_type": "execute_result"
    }
   ],
   "source": [
    "dt91.feature_importances_"
   ]
  },
  {
   "cell_type": "code",
   "execution_count": 8,
   "metadata": {},
   "outputs": [
    {
     "data": {
      "text/plain": [
       "45.25432907474567"
      ]
     },
     "execution_count": 8,
     "metadata": {},
     "output_type": "execute_result"
    }
   ],
   "source": [
    "acc_dt91"
   ]
  },
  {
   "cell_type": "markdown",
   "metadata": {},
   "source": [
    "#### 3.1 XG Boost"
   ]
  },
  {
   "cell_type": "code",
   "execution_count": 9,
   "metadata": {},
   "outputs": [],
   "source": [
    "xgb91, acc_xgb91 = f.train_xgb(pdf91,'reg')\n",
    "xgb01, acc_xgb01 = f.train_xgb(pdf01,'reg')"
   ]
  },
  {
   "cell_type": "code",
   "execution_count": null,
   "metadata": {},
   "outputs": [],
   "source": [
    "pd.DataFrame({\n",
    "    'Model': ['Decision Tree', 'XGBoost'],\n",
    "    'Year 91': [acc_dt91, acc_xgb91],\n",
    "    'Year 01': [acc_dt01, acc_xgb01]\n",
    "}).to_csv('Data/accuracies.csv',index=False)"
   ]
  },
  {
   "cell_type": "markdown",
   "metadata": {},
   "source": [
    "### 4. Results\n"
   ]
  },
  {
   "cell_type": "markdown",
   "metadata": {},
   "source": [
    "#### 4.1 Accuracies"
   ]
  },
  {
   "cell_type": "code",
   "execution_count": 16,
   "metadata": {},
   "outputs": [
    {
     "data": {
      "image/png": "[encoded data removed]",
      "text/plain": [
       "<Figure size 1000x600 with 1 Axes>"
      ]
     },
     "metadata": {},
     "output_type": "display_data"
    }
   ],
   "source": [
    "f.plot_model_accuracy([acc_dt91,acc_xgb91])"
   ]
  },
  {
   "cell_type": "code",
   "execution_count": 17,
   "metadata": {},
   "outputs": [
    {
     "data": {
      "image/png": "[encoded data removed]",
      "text/plain": [
       "<Figure size 1000x600 with 1 Axes>"
      ]
     },
     "metadata": {},
     "output_type": "display_data"
    }
   ],
   "source": [
    "f.plot_model_accuracy([acc_dt01,acc_xgb01])"
   ]
  },
  {
   "cell_type": "markdown",
   "metadata": {},
   "source": [
    "#### 4.2 Feature Importance"
   ]
  },
  {
   "cell_type": "code",
   "execution_count": 24,
   "metadata": {},
   "outputs": [
    {
     "data": {
      "text/html": [
       "<div>\n",
       "<style scoped>\n",
       "    .dataframe tbody tr th:only-of-type {\n",
       "        vertical-align: middle;\n",
       "    }\n",
       "\n",
       "    .dataframe tbody tr th {\n",
       "        vertical-align: top;\n",
       "    }\n",
       "\n",
       "    .dataframe thead th {\n",
       "        text-align: right;\n",
       "    }\n",
       "</style>\n",
       "<table border=\"1\" class=\"dataframe\">\n",
       "  <thead>\n",
       "    <tr style=\"text-align: right;\">\n",
       "      <th></th>\n",
       "      <th>UniqueCarrier</th>\n",
       "      <th>Origin</th>\n",
       "      <th>Dest</th>\n",
       "      <th>Month</th>\n",
       "      <th>DayofMonth</th>\n",
       "      <th>DayOfWeek</th>\n",
       "      <th>DepTime</th>\n",
       "      <th>FlightNum</th>\n",
       "      <th>ActualElapsedTime</th>\n",
       "      <th>DepDelay</th>\n",
       "      <th>Distance</th>\n",
       "      <th>Cancelled</th>\n",
       "      <th>Diverted</th>\n",
       "      <th>ArrDelay</th>\n",
       "    </tr>\n",
       "  </thead>\n",
       "  <tbody>\n",
       "    <tr>\n",
       "      <th>3849173</th>\n",
       "      <td>11</td>\n",
       "      <td>170</td>\n",
       "      <td>120</td>\n",
       "      <td>1.014321</td>\n",
       "      <td>1.058571</td>\n",
       "      <td>0.539529</td>\n",
       "      <td>-0.867628</td>\n",
       "      <td>-0.210215</td>\n",
       "      <td>-0.427366</td>\n",
       "      <td>0.065677</td>\n",
       "      <td>-0.530411</td>\n",
       "      <td>0.0</td>\n",
       "      <td>0.0</td>\n",
       "      <td>11.0</td>\n",
       "    </tr>\n",
       "    <tr>\n",
       "      <th>3370940</th>\n",
       "      <td>10</td>\n",
       "      <td>10</td>\n",
       "      <td>172</td>\n",
       "      <td>0.721256</td>\n",
       "      <td>-0.879355</td>\n",
       "      <td>1.544819</td>\n",
       "      <td>-1.131151</td>\n",
       "      <td>-0.179955</td>\n",
       "      <td>-0.859595</td>\n",
       "      <td>-0.181301</td>\n",
       "      <td>-0.773942</td>\n",
       "      <td>0.0</td>\n",
       "      <td>0.0</td>\n",
       "      <td>-1.0</td>\n",
       "    </tr>\n",
       "    <tr>\n",
       "      <th>1059756</th>\n",
       "      <td>4</td>\n",
       "      <td>170</td>\n",
       "      <td>130</td>\n",
       "      <td>-1.037136</td>\n",
       "      <td>0.830580</td>\n",
       "      <td>1.042174</td>\n",
       "      <td>1.377595</td>\n",
       "      <td>-1.025338</td>\n",
       "      <td>-0.334745</td>\n",
       "      <td>-0.280092</td>\n",
       "      <td>-0.127723</td>\n",
       "      <td>0.0</td>\n",
       "      <td>0.0</td>\n",
       "      <td>-3.0</td>\n",
       "    </tr>\n",
       "    <tr>\n",
       "      <th>1919487</th>\n",
       "      <td>4</td>\n",
       "      <td>72</td>\n",
       "      <td>119</td>\n",
       "      <td>-0.451005</td>\n",
       "      <td>0.374597</td>\n",
       "      <td>1.544819</td>\n",
       "      <td>0.329824</td>\n",
       "      <td>0.487652</td>\n",
       "      <td>-0.535423</td>\n",
       "      <td>-0.280092</td>\n",
       "      <td>-0.745178</td>\n",
       "      <td>0.0</td>\n",
       "      <td>0.0</td>\n",
       "      <td>-15.0</td>\n",
       "    </tr>\n",
       "    <tr>\n",
       "      <th>3195342</th>\n",
       "      <td>3</td>\n",
       "      <td>205</td>\n",
       "      <td>151</td>\n",
       "      <td>0.428191</td>\n",
       "      <td>-1.107346</td>\n",
       "      <td>-0.968405</td>\n",
       "      <td>-0.897142</td>\n",
       "      <td>2.042248</td>\n",
       "      <td>0.359908</td>\n",
       "      <td>-0.280092</td>\n",
       "      <td>0.660395</td>\n",
       "      <td>0.0</td>\n",
       "      <td>0.0</td>\n",
       "      <td>-7.0</td>\n",
       "    </tr>\n",
       "  </tbody>\n",
       "</table>\n",
       "</div>"
      ],
      "text/plain": [
       "         UniqueCarrier  Origin  Dest     Month  DayofMonth  DayOfWeek  \\\n",
       "3849173             11     170   120  1.014321    1.058571   0.539529   \n",
       "3370940             10      10   172  0.721256   -0.879355   1.544819   \n",
       "1059756              4     170   130 -1.037136    0.830580   1.042174   \n",
       "1919487              4      72   119 -0.451005    0.374597   1.544819   \n",
       "3195342              3     205   151  0.428191   -1.107346  -0.968405   \n",
       "\n",
       "          DepTime  FlightNum  ActualElapsedTime  DepDelay  Distance  \\\n",
       "3849173 -0.867628  -0.210215          -0.427366  0.065677 -0.530411   \n",
       "3370940 -1.131151  -0.179955          -0.859595 -0.181301 -0.773942   \n",
       "1059756  1.377595  -1.025338          -0.334745 -0.280092 -0.127723   \n",
       "1919487  0.329824   0.487652          -0.535423 -0.280092 -0.745178   \n",
       "3195342 -0.897142   2.042248           0.359908 -0.280092  0.660395   \n",
       "\n",
       "         Cancelled  Diverted  ArrDelay  \n",
       "3849173        0.0       0.0      11.0  \n",
       "3370940        0.0       0.0      -1.0  \n",
       "1059756        0.0       0.0      -3.0  \n",
       "1919487        0.0       0.0     -15.0  \n",
       "3195342        0.0       0.0      -7.0  "
      ]
     },
     "execution_count": 24,
     "metadata": {},
     "output_type": "execute_result"
    }
   ],
   "source": [
    "pdf91.sample(5)"
   ]
  },
  {
   "cell_type": "code",
   "execution_count": 18,
   "metadata": {},
   "outputs": [
    {
     "ename": "KeyError",
     "evalue": "\"['OnTime'] not found in axis\"",
     "output_type": "error",
     "traceback": [
      "\u001b[1;31m---------------------------------------------------------------------------\u001b[0m",
      "\u001b[1;31mKeyError\u001b[0m                                  Traceback (most recent call last)",
      "Cell \u001b[1;32mIn[18], line 1\u001b[0m\n\u001b[1;32m----> 1\u001b[0m dt_feature_importance_91 \u001b[38;5;241m=\u001b[39m \u001b[43mf\u001b[49m\u001b[38;5;241;43m.\u001b[39;49m\u001b[43manalyze_dt_features\u001b[49m\u001b[43m(\u001b[49m\u001b[43mdt91\u001b[49m\u001b[43m,\u001b[49m\u001b[43m \u001b[49m\u001b[43mpdf91\u001b[49m\u001b[43m)\u001b[49m\n",
      "File \u001b[1;32mc:\\Users\\Rizny.Mubarak\\Downloads\\Rizny\\BI\\Flights\\functions.py:184\u001b[0m, in \u001b[0;36manalyze_dt_features\u001b[1;34m(trained_model, processed_df)\u001b[0m\n\u001b[0;32m    182\u001b[0m \u001b[38;5;28;01mdef\u001b[39;00m \u001b[38;5;21manalyze_dt_features\u001b[39m(trained_model, processed_df):\n\u001b[0;32m    183\u001b[0m     \u001b[38;5;66;03m# Separate features and target variable\u001b[39;00m\n\u001b[1;32m--> 184\u001b[0m     X \u001b[38;5;241m=\u001b[39m \u001b[43mprocessed_df\u001b[49m\u001b[38;5;241;43m.\u001b[39;49m\u001b[43mdrop\u001b[49m\u001b[43m(\u001b[49m\u001b[43mcolumns\u001b[49m\u001b[38;5;241;43m=\u001b[39;49m\u001b[43m[\u001b[49m\u001b[38;5;124;43m'\u001b[39;49m\u001b[38;5;124;43mOnTime\u001b[39;49m\u001b[38;5;124;43m'\u001b[39;49m\u001b[43m]\u001b[49m\u001b[43m)\u001b[49m  \u001b[38;5;66;03m# Features\u001b[39;00m\n\u001b[0;32m    186\u001b[0m     \u001b[38;5;66;03m# Extracting feature importance\u001b[39;00m\n\u001b[0;32m    187\u001b[0m     feature_importance \u001b[38;5;241m=\u001b[39m pd\u001b[38;5;241m.\u001b[39mDataFrame({\n\u001b[0;32m    188\u001b[0m         \u001b[38;5;124m'\u001b[39m\u001b[38;5;124mFeature\u001b[39m\u001b[38;5;124m'\u001b[39m: X\u001b[38;5;241m.\u001b[39mcolumns,\n\u001b[0;32m    189\u001b[0m         \u001b[38;5;124m'\u001b[39m\u001b[38;5;124mImportance\u001b[39m\u001b[38;5;124m'\u001b[39m: trained_model\u001b[38;5;241m.\u001b[39mfeature_importances_\n\u001b[0;32m    190\u001b[0m     })\n",
      "File \u001b[1;32mc:\\Users\\Rizny.Mubarak\\Downloads\\Rizny\\BI\\Flights\\.venv\\Lib\\site-packages\\pandas\\core\\frame.py:5344\u001b[0m, in \u001b[0;36mDataFrame.drop\u001b[1;34m(self, labels, axis, index, columns, level, inplace, errors)\u001b[0m\n\u001b[0;32m   5196\u001b[0m \u001b[38;5;28;01mdef\u001b[39;00m \u001b[38;5;21mdrop\u001b[39m(\n\u001b[0;32m   5197\u001b[0m     \u001b[38;5;28mself\u001b[39m,\n\u001b[0;32m   5198\u001b[0m     labels: IndexLabel \u001b[38;5;241m|\u001b[39m \u001b[38;5;28;01mNone\u001b[39;00m \u001b[38;5;241m=\u001b[39m \u001b[38;5;28;01mNone\u001b[39;00m,\n\u001b[1;32m   (...)\u001b[0m\n\u001b[0;32m   5205\u001b[0m     errors: IgnoreRaise \u001b[38;5;241m=\u001b[39m \u001b[38;5;124m\"\u001b[39m\u001b[38;5;124mraise\u001b[39m\u001b[38;5;124m\"\u001b[39m,\n\u001b[0;32m   5206\u001b[0m ) \u001b[38;5;241m-\u001b[39m\u001b[38;5;241m>\u001b[39m DataFrame \u001b[38;5;241m|\u001b[39m \u001b[38;5;28;01mNone\u001b[39;00m:\n\u001b[0;32m   5207\u001b[0m \u001b[38;5;250m    \u001b[39m\u001b[38;5;124;03m\"\"\"\u001b[39;00m\n\u001b[0;32m   5208\u001b[0m \u001b[38;5;124;03m    Drop specified labels from rows or columns.\u001b[39;00m\n\u001b[0;32m   5209\u001b[0m \n\u001b[1;32m   (...)\u001b[0m\n\u001b[0;32m   5342\u001b[0m \u001b[38;5;124;03m            weight  1.0     0.8\u001b[39;00m\n\u001b[0;32m   5343\u001b[0m \u001b[38;5;124;03m    \"\"\"\u001b[39;00m\n\u001b[1;32m-> 5344\u001b[0m     \u001b[38;5;28;01mreturn\u001b[39;00m \u001b[38;5;28;43msuper\u001b[39;49m\u001b[43m(\u001b[49m\u001b[43m)\u001b[49m\u001b[38;5;241;43m.\u001b[39;49m\u001b[43mdrop\u001b[49m\u001b[43m(\u001b[49m\n\u001b[0;32m   5345\u001b[0m \u001b[43m        \u001b[49m\u001b[43mlabels\u001b[49m\u001b[38;5;241;43m=\u001b[39;49m\u001b[43mlabels\u001b[49m\u001b[43m,\u001b[49m\n\u001b[0;32m   5346\u001b[0m \u001b[43m        \u001b[49m\u001b[43maxis\u001b[49m\u001b[38;5;241;43m=\u001b[39;49m\u001b[43maxis\u001b[49m\u001b[43m,\u001b[49m\n\u001b[0;32m   5347\u001b[0m \u001b[43m        \u001b[49m\u001b[43mindex\u001b[49m\u001b[38;5;241;43m=\u001b[39;49m\u001b[43mindex\u001b[49m\u001b[43m,\u001b[49m\n\u001b[0;32m   5348\u001b[0m \u001b[43m        \u001b[49m\u001b[43mcolumns\u001b[49m\u001b[38;5;241;43m=\u001b[39;49m\u001b[43mcolumns\u001b[49m\u001b[43m,\u001b[49m\n\u001b[0;32m   5349\u001b[0m \u001b[43m        \u001b[49m\u001b[43mlevel\u001b[49m\u001b[38;5;241;43m=\u001b[39;49m\u001b[43mlevel\u001b[49m\u001b[43m,\u001b[49m\n\u001b[0;32m   5350\u001b[0m \u001b[43m        \u001b[49m\u001b[43minplace\u001b[49m\u001b[38;5;241;43m=\u001b[39;49m\u001b[43minplace\u001b[49m\u001b[43m,\u001b[49m\n\u001b[0;32m   5351\u001b[0m \u001b[43m        \u001b[49m\u001b[43merrors\u001b[49m\u001b[38;5;241;43m=\u001b[39;49m\u001b[43merrors\u001b[49m\u001b[43m,\u001b[49m\n\u001b[0;32m   5352\u001b[0m \u001b[43m    \u001b[49m\u001b[43m)\u001b[49m\n",
      "File \u001b[1;32mc:\\Users\\Rizny.Mubarak\\Downloads\\Rizny\\BI\\Flights\\.venv\\Lib\\site-packages\\pandas\\core\\generic.py:4711\u001b[0m, in \u001b[0;36mNDFrame.drop\u001b[1;34m(self, labels, axis, index, columns, level, inplace, errors)\u001b[0m\n\u001b[0;32m   4709\u001b[0m \u001b[38;5;28;01mfor\u001b[39;00m axis, labels \u001b[38;5;129;01min\u001b[39;00m axes\u001b[38;5;241m.\u001b[39mitems():\n\u001b[0;32m   4710\u001b[0m     \u001b[38;5;28;01mif\u001b[39;00m labels \u001b[38;5;129;01mis\u001b[39;00m \u001b[38;5;129;01mnot\u001b[39;00m \u001b[38;5;28;01mNone\u001b[39;00m:\n\u001b[1;32m-> 4711\u001b[0m         obj \u001b[38;5;241m=\u001b[39m \u001b[43mobj\u001b[49m\u001b[38;5;241;43m.\u001b[39;49m\u001b[43m_drop_axis\u001b[49m\u001b[43m(\u001b[49m\u001b[43mlabels\u001b[49m\u001b[43m,\u001b[49m\u001b[43m \u001b[49m\u001b[43maxis\u001b[49m\u001b[43m,\u001b[49m\u001b[43m \u001b[49m\u001b[43mlevel\u001b[49m\u001b[38;5;241;43m=\u001b[39;49m\u001b[43mlevel\u001b[49m\u001b[43m,\u001b[49m\u001b[43m \u001b[49m\u001b[43merrors\u001b[49m\u001b[38;5;241;43m=\u001b[39;49m\u001b[43merrors\u001b[49m\u001b[43m)\u001b[49m\n\u001b[0;32m   4713\u001b[0m \u001b[38;5;28;01mif\u001b[39;00m inplace:\n\u001b[0;32m   4714\u001b[0m     \u001b[38;5;28mself\u001b[39m\u001b[38;5;241m.\u001b[39m_update_inplace(obj)\n",
      "File \u001b[1;32mc:\\Users\\Rizny.Mubarak\\Downloads\\Rizny\\BI\\Flights\\.venv\\Lib\\site-packages\\pandas\\core\\generic.py:4753\u001b[0m, in \u001b[0;36mNDFrame._drop_axis\u001b[1;34m(self, labels, axis, level, errors, only_slice)\u001b[0m\n\u001b[0;32m   4751\u001b[0m         new_axis \u001b[38;5;241m=\u001b[39m axis\u001b[38;5;241m.\u001b[39mdrop(labels, level\u001b[38;5;241m=\u001b[39mlevel, errors\u001b[38;5;241m=\u001b[39merrors)\n\u001b[0;32m   4752\u001b[0m     \u001b[38;5;28;01melse\u001b[39;00m:\n\u001b[1;32m-> 4753\u001b[0m         new_axis \u001b[38;5;241m=\u001b[39m \u001b[43maxis\u001b[49m\u001b[38;5;241;43m.\u001b[39;49m\u001b[43mdrop\u001b[49m\u001b[43m(\u001b[49m\u001b[43mlabels\u001b[49m\u001b[43m,\u001b[49m\u001b[43m \u001b[49m\u001b[43merrors\u001b[49m\u001b[38;5;241;43m=\u001b[39;49m\u001b[43merrors\u001b[49m\u001b[43m)\u001b[49m\n\u001b[0;32m   4754\u001b[0m     indexer \u001b[38;5;241m=\u001b[39m axis\u001b[38;5;241m.\u001b[39mget_indexer(new_axis)\n\u001b[0;32m   4756\u001b[0m \u001b[38;5;66;03m# Case for non-unique axis\u001b[39;00m\n\u001b[0;32m   4757\u001b[0m \u001b[38;5;28;01melse\u001b[39;00m:\n",
      "File \u001b[1;32mc:\\Users\\Rizny.Mubarak\\Downloads\\Rizny\\BI\\Flights\\.venv\\Lib\\site-packages\\pandas\\core\\indexes\\base.py:6992\u001b[0m, in \u001b[0;36mIndex.drop\u001b[1;34m(self, labels, errors)\u001b[0m\n\u001b[0;32m   6990\u001b[0m \u001b[38;5;28;01mif\u001b[39;00m mask\u001b[38;5;241m.\u001b[39many():\n\u001b[0;32m   6991\u001b[0m     \u001b[38;5;28;01mif\u001b[39;00m errors \u001b[38;5;241m!=\u001b[39m \u001b[38;5;124m\"\u001b[39m\u001b[38;5;124mignore\u001b[39m\u001b[38;5;124m\"\u001b[39m:\n\u001b[1;32m-> 6992\u001b[0m         \u001b[38;5;28;01mraise\u001b[39;00m \u001b[38;5;167;01mKeyError\u001b[39;00m(\u001b[38;5;124mf\u001b[39m\u001b[38;5;124m\"\u001b[39m\u001b[38;5;132;01m{\u001b[39;00mlabels[mask]\u001b[38;5;241m.\u001b[39mtolist()\u001b[38;5;132;01m}\u001b[39;00m\u001b[38;5;124m not found in axis\u001b[39m\u001b[38;5;124m\"\u001b[39m)\n\u001b[0;32m   6993\u001b[0m     indexer \u001b[38;5;241m=\u001b[39m indexer[\u001b[38;5;241m~\u001b[39mmask]\n\u001b[0;32m   6994\u001b[0m \u001b[38;5;28;01mreturn\u001b[39;00m \u001b[38;5;28mself\u001b[39m\u001b[38;5;241m.\u001b[39mdelete(indexer)\n",
      "\u001b[1;31mKeyError\u001b[0m: \"['OnTime'] not found in axis\""
     ]
    }
   ],
   "source": [
    "dt_feature_importance_91 = f.analyze_dt_features(dt91, pdf91)"
   ]
  },
  {
   "cell_type": "code",
   "execution_count": null,
   "metadata": {},
   "outputs": [],
   "source": [
    "xgb_feature_importance_91 = f.analyze_xgb_features(xgb91, pdf91)"
   ]
  },
  {
   "cell_type": "code",
   "execution_count": null,
   "metadata": {},
   "outputs": [],
   "source": [
    "combined_feature_importance = f.combine_feature_importance_dfs(dt_feature_importance_91, xgb_feature_importance_91)\n",
    "\n",
    "f.plot_feature_importance(combined_feature_importance)"
   ]
  },
  {
   "cell_type": "code",
   "execution_count": null,
   "metadata": {},
   "outputs": [],
   "source": [
    "combined_feature_importance.to_csv('Data/features_importance_91.csv')"
   ]
  },
  {
   "cell_type": "code",
   "execution_count": null,
   "metadata": {},
   "outputs": [],
   "source": [
    "dt_feature_importance_01 = f.analyze_dt_features(dt01, pdf01)"
   ]
  },
  {
   "cell_type": "code",
   "execution_count": null,
   "metadata": {},
   "outputs": [],
   "source": [
    "xgb_feature_importance_01 = f.analyze_xgb_features(xgb01, pdf01)"
   ]
  },
  {
   "cell_type": "code",
   "execution_count": null,
   "metadata": {},
   "outputs": [],
   "source": [
    "combined_feature_importance = f.combine_feature_importance_dfs(dt_feature_importance_01, xgb_feature_importance_01)\n",
    "\n",
    "f.plot_feature_importance(combined_feature_importance)"
   ]
  },
  {
   "cell_type": "code",
   "execution_count": null,
   "metadata": {},
   "outputs": [],
   "source": [
    "combined_feature_importance.to_csv('Data/features_importance_01.csv')"
   ]
  }
 ],
 "metadata": {
  "kernelspec": {
   "display_name": "Python 3",
   "language": "python",
   "name": "python3"
  },
  "language_info": {
   "codemirror_mode": {
    "name": "ipython",
    "version": 3
   },
   "file_extension": ".py",
   "mimetype": "text/x-python",
   "name": "python",
   "nbconvert_exporter": "python",
   "pygments_lexer": "ipython3",
   "version": "3.11.0"
  }
 },
 "nbformat": 4,
 "nbformat_minor": 2
}
